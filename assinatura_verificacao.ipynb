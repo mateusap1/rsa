{
 "cells": [
  {
   "cell_type": "code",
   "execution_count": null,
   "id": "762f031c",
   "metadata": {},
   "outputs": [],
   "source": [
    "from functions.keygen import generate_rsa_keys\n",
    "from functions.Utils import os2ip, i2osp \n",
    "import hashlib, json, base64"
   ]
  },
  {
   "cell_type": "markdown",
   "id": "ace3f921",
   "metadata": {},
   "source": [
    "# Assinatura"
   ]
  },
  {
   "cell_type": "markdown",
   "id": "4dcd7768",
   "metadata": {},
   "source": [
    "Começando com a criação do arquivo que será assinado e obtendo as chaves publica e privada:"
   ]
  },
  {
   "cell_type": "code",
   "execution_count": 38,
   "id": "c1363d92",
   "metadata": {},
   "outputs": [
    {
     "name": "stdout",
     "output_type": "stream",
     "text": [
      "Gerando p (primo de 1024 bits)...\n",
      "p gerado: 97343072851515034258703743432763162845054019495014869828040938470587314449290816776503197112894877200442098056498015816219546452251992192879041564729458627547275278602252255104689018520969222600395420484806827027257786896515431228434580276900727615187531020141111396193119023834861363662161642900780002109143\n",
      "Gerando q (primo de 1024 bits)...\n",
      "q gerado: 162597836603072150766337720304530496953572059568951753152467527144485365174335445397583067343686392686416543650332963454020797957402410895266577527727800433317011427359528957912234729653226724892988420918761938348601993679887026000310388205769851024703184648902018098073508891132356462338174827894770536696163\n",
      "\n",
      "n: 15827773053951590198698563851454488794162807026536518287810712098119976935840479667746582015052326091526718799351046172237889395516869490096816816291697151521017832521463671519950412383165258291735573251213234626859118759035392412250505546141398231229446233344449740117640514349938325091900594594454789829046115356850335466505167337771644591327285937142446101029947766279303539703988534487256944793795879758580723686138386738813898623265735017093663532936281385096095609011889839591322140300907258694467254850051322762497069154326045817063462061125643615557563300467716188431017883570648358498022255275721218955318309\n",
      "e: 65537\n",
      "\n",
      "n: 15827773053951590198698563851454488794162807026536518287810712098119976935840479667746582015052326091526718799351046172237889395516869490096816816291697151521017832521463671519950412383165258291735573251213234626859118759035392412250505546141398231229446233344449740117640514349938325091900594594454789829046115356850335466505167337771644591327285937142446101029947766279303539703988534487256944793795879758580723686138386738813898623265735017093663532936281385096095609011889839591322140300907258694467254850051322762497069154326045817063462061125643615557563300467716188431017883570648358498022255275721218955318309\n",
      "d: 13371626877613221455534177407624405771799321553294282741675934155310874208564319968325144672893207481415991573670893898382520136130468484339998118125980685540445768546254468484140172458591495732769633706149551575221765236912165214902631194183603092428410662703238609657039570899080446852362180461589306017437201532178750196763939736632435164105097425143755109872446956122045399602331688568261632790544714274738136105025282630249381691646316055901910528949921576913692305447492543269170467443965568840680872120112305957834658275422990126248817939001838474983914094367275451335140558339382298786759198292145192535774837\n"
     ]
    }
   ],
   "source": [
    "with open(\"documento.txt\", \"w\") as f:\n",
    "    f.write(\"A principal vantagem do OAEP e transformar o RSA de um algoritmo deterministico\" \\\n",
    "    \" em um probabilistico, dificultando ataques por analise de padroes. Alem disso, ele incorpora\" \\\n",
    "    \" verificacoes internas que detectam alteracoes ou corrupcoes nos dados antes da decifracao. \")\n",
    "\n",
    "public_key_signer, private_key_signer = generate_rsa_keys(bits=1024)\n",
    "\n",
    "file_to_sign = \"documento.txt\" \n",
    "\n",
    "print()\n",
    "print(f'n: {public_key_signer[0]}\\ne: {public_key_signer[1]}')\n",
    "print()\n",
    "print(f'n: {private_key_signer[0]}\\nd: {private_key_signer[1]}')"
   ]
  },
  {
   "cell_type": "markdown",
   "id": "94f0a6b9",
   "metadata": {},
   "source": [
    "Com o arquivo e as chaves já em mãos é necessário uma função de hash par resumir a mensagem no arquivo:"
   ]
  },
  {
   "cell_type": "code",
   "execution_count": 25,
   "id": "1232995b",
   "metadata": {},
   "outputs": [],
   "source": [
    "def sha3_hash(filepath, hash_algo='sha3-256'):\n",
    "    \"\"\"\n",
    "    Calcula o hash SHA-3 de um arquivo.\n",
    "    filepath: Caminho para o arquivo a ser hasheado.\n",
    "    hash_algo: O algoritmo SHA-3 a ser usado (ex: 'sha3-256', 'sha3-512').\n",
    "    \n",
    "    Retorna os bytes do hash (digest).\n",
    "    \"\"\"\n",
    "    try:\n",
    "        hasher = hashlib.new(hash_algo)\n",
    "    except ValueError:\n",
    "        raise ValueError(f\"Algoritmo de hash '{hash_algo}' não suportado ou inválido.\")\n",
    "\n",
    "    with open(filepath, 'rb') as f:\n",
    "        while True:\n",
    "            chunk = f.read(4096)\n",
    "            if not chunk:\n",
    "                break\n",
    "            hasher.update(chunk)\n",
    "    \n",
    "    return hasher.digest()"
   ]
  },
  {
   "cell_type": "code",
   "execution_count": 39,
   "id": "a59c9fc7",
   "metadata": {},
   "outputs": [
    {
     "name": "stdout",
     "output_type": "stream",
     "text": [
      "Hash do documento (32 bytes): 82f3d3ad5d3ba567ec649f48aef2fea3cafa911f92dd5fbccbbf3d61034aa2f3\n"
     ]
    }
   ],
   "source": [
    "message_hash_bytes = sha3_hash(file_to_sign)\n",
    "print(f\"Hash do documento ({len(message_hash_bytes)} bytes): {message_hash_bytes.hex()}\")"
   ]
  },
  {
   "cell_type": "markdown",
   "id": "fe696863",
   "metadata": {},
   "source": [
    "Em seguida é necessário assinar esse documento:"
   ]
  },
  {
   "cell_type": "code",
   "execution_count": 27,
   "id": "51af8027",
   "metadata": {},
   "outputs": [],
   "source": [
    "def sign_message_hash(message_hash_bytes, private_key):\n",
    "   \n",
    "    n, d = private_key\n",
    "    k = (n.bit_length() + 7) // 8 \n",
    "\n",
    "    # Converte o hash da mensagem para um inteiro.\n",
    "    hash_int = os2ip(message_hash_bytes)\n",
    "\n",
    "    # A assinatura RSA\n",
    "    signature_int = pow(hash_int, d, n)\n",
    "    \n",
    "    # Converte o inteiro da assinatura de volta para uma string de octetos (bytes).\n",
    "    # O comprimento dessa string de octetos deve ser igual ao comprimento do módulo n (k).\n",
    "    # Isso garante que a assinatura tenha o tamanho correto para o bloco RSA.\n",
    "    signature_bytes = i2osp(signature_int, k)\n",
    "    \n",
    "    return signature_bytes"
   ]
  },
  {
   "cell_type": "code",
   "execution_count": 28,
   "id": "845973bc",
   "metadata": {},
   "outputs": [
    {
     "name": "stdout",
     "output_type": "stream",
     "text": [
      "Assinatura (256 bytes): 28fa316401772d988ec3792b2b61142418554a7c1c8183921ad944ffd513802d5229afab4b2835fa2e66442f4a57af794f46262e9d68ce87b564be9504dd00f8f14c0fe00f34cd38cefda33167a9ec5877f46db7007c2101bef41e1b1378f22f7f1fbd7c4165364d8628918212135c08b11cedcaef7d40babc551ca018cc08f0f279f8918b1ee3c1b351a56741cdca256c420485063635fbf05dcb4070d897ce78f69eb280a46e539ce4bdaaa16915755aeb7ac3852fdba941f760c2fdc8723ae0ace4c79f198f954c4cdb4a7305d6488b341d6461cd846091bb01256661f1d599c2879c89f641aefb5bd09c10c66ab235a04843e686287b2533b5f65608e706\n"
     ]
    }
   ],
   "source": [
    "signature_bytes = sign_message_hash(message_hash_bytes, private_key_signer)\n",
    "print(f\"Assinatura ({len(signature_bytes)} bytes): {signature_bytes.hex()}\")"
   ]
  },
  {
   "cell_type": "markdown",
   "id": "870bc157",
   "metadata": {},
   "source": [
    "Por ultimo é preciso formatar o arquivo da assinatura. Para isso a assinatura, o algoritmo de hash usado e a chave publica que valida a assinatura são organizados em um arquivo json, prontos para serem salvos em um arquivo .sig"
   ]
  },
  {
   "cell_type": "code",
   "execution_count": 29,
   "id": "ddbbef11",
   "metadata": {},
   "outputs": [],
   "source": [
    "def format_signature_output(signature_bytes, public_key_signer, hash_algorithm_name):\n",
    "    \n",
    "    n_signer, e_signer = public_key_signer\n",
    "\n",
    "    n_str = str(n_signer)\n",
    "    e_str = str(e_signer)\n",
    "    \n",
    "    signature_b64 = base64.b64encode(signature_bytes).decode('utf-8')\n",
    "\n",
    "    signature_data = {\n",
    "        \"hash_algorithm\": hash_algorithm_name,\n",
    "        \"public_key_n\": n_str,\n",
    "        \"public_key_e\": e_str,\n",
    "        \"signature\": signature_b64\n",
    "    }\n",
    "\n",
    "    json_string = json.dumps(signature_data, indent=2)\n",
    "    json_bytes = json_string.encode('utf-8')\n",
    "    final_b64_string = base64.b64encode(json_bytes).decode('utf-8')\n",
    "\n",
    "    return final_b64_string"
   ]
  },
  {
   "cell_type": "code",
   "execution_count": 30,
   "id": "ece00490",
   "metadata": {},
   "outputs": [
    {
     "name": "stdout",
     "output_type": "stream",
     "text": [
      "\n",
      "Conteúdo do documento assinado (Base64):\n",
      "ewogICJoYXNoX2FsZ29yaXRobSI6ICJTSEEzLTI1NiIsCiAgInB1YmxpY19rZXlfbiI6ICIxNjYyODk0NjgzMDIzMDQ4MzE1NDc4NzYyNTEzNjI5MzUwNzc3NjExMjY3MjIwOTI5ODA5NjU1NjM4Njc3NTk1MzUxMjk4NTU2MDI2NjcxMDk0NzYwODAwMjE4MzIyODA2MzI4NDEyNjQ0ODU5ODY3MTAzMzYyMjkyMTYyNzE1MTUzNDU4NzMyNDg4MDM1NjM0Nzg4OTA5MjE4MDU2OTkzMzQ0MTc1NjIxMDIyNzY2MjYyNjk3OTcxMDUxODE0NjI3NjIyODgzMzA4NzU5NDMxMjc4NzY4NTE0OTMxMDY5NDk2NzA2NTY0MjAyMTE4ODUwOTM2NzI0NjYwNTcyMzkxNjQ0ODIzMDY1NDkxNzQzMTk5NDU4NTI2MjE3MDE5MDM5NDk0MjY4MTAwMTc3NzgzNzk0NDMwNTU3Mzg3NzkyMjYwNTIyMzIxMTI4NzU3NTcxOTE0ODU5NjQ1NzQ2MzgwMDM2MTUyMDk5NzQ4NTIxMDIzODYyMzE4MTc2Njk2MDQzMTgyOTE3NTU2NjU0MTA4MzIwNDAzOTU0MTc3NDY2OTA2OTY3NTM0MzEyNjc1MTA4Mzk5NTQ1NzMwOTUyNzcyOTQ3MTI1OTg5NDA0MTAwMDA3OTkyODU0MDQ4MDAwNDMzMzMzNjkwMjc0NTMyNTc4OTU2MTU0MTk0OTczMTc5NjUyMTc3MTcxODA2NzExMDY5OTA4MzYwNjYzMzgxMjI1NzE3NTE5MTk3MjA3NDIwMzkzMjAxNzAwOTg1NTcxODkwOTc2OTQ3ODgxMzQwMzg2ODMwMjkyODkyMTE2OTcyNzU4NTA1MDMwMyIsCiAgInB1YmxpY19rZXlfZSI6ICI2NTUzNyIsCiAgInNpZ25hdHVyZSI6ICJLUG94WkFGM0xaaU93M2tySzJFVUpCaFZTbndjZ1lPU0d0bEUvOVVUZ0MxU0thK3JTeWcxK2k1bVJDOUtWNjk1VDBZbUxwMW96b2UxWkw2VkJOMEErUEZNRCtBUE5NMDR6djJqTVdlcDdGaDM5RzIzQUh3aEFiNzBIaHNUZVBJdmZ4KzlmRUZsTmsyR0tKR0NFaE5jQ0xFYzdjcnZmVUM2dkZVY29Cak1DUER5ZWZpUml4N2p3Yk5ScFdkQnpjb2xiRUlFaFFZMk5mdndYY3RBY05pWHpuajJucktBcEc1VG5PUzlxcUZwRlhWYTYzckRoUy9icVVIM1lNTDl5SEk2NEt6a3g1OFpqNVZNVE50S2N3WFdTSXMwSFdSaHpZUmdrYnNCSldaaDhkV1p3b2VjaWZaQnJ2dGIwSndReG1xeU5hQklRK2FHS0hzbE03WDJWZ2puQmc9PSIKfQ==\n"
     ]
    }
   ],
   "source": [
    "signed_document_content = format_signature_output(signature_bytes, public_key_signer, \"SHA3-256\")\n",
    "print(f\"\\nConteúdo do documento assinado (Base64):\\n{signed_document_content}\")\n",
    "\n",
    "\n",
    "with open(file_to_sign + \".sig\", \"w\") as f:\n",
    "    f.write(signed_document_content)"
   ]
  },
  {
   "cell_type": "markdown",
   "id": "b8ebd14b",
   "metadata": {},
   "source": [
    "# Verificação"
   ]
  },
  {
   "cell_type": "markdown",
   "id": "19cf6108",
   "metadata": {},
   "source": [
    "Agora para a verificação é preciso verificar o arquivo que foi assinado e calcular o hash dele. AO mesmo tempo a assinatura passa por um parser, para separar cada informação e o hash da assinatura é recuperado e descriptografado."
   ]
  },
  {
   "cell_type": "code",
   "execution_count": 31,
   "id": "013a5e1f",
   "metadata": {},
   "outputs": [],
   "source": [
    "original_doc = \"documento.txt\"\n",
    "signed_doc_file = \"documento.txt.sig\""
   ]
  },
  {
   "cell_type": "markdown",
   "id": "17dd0b69",
   "metadata": {},
   "source": [
    "Primeiramente temos o parser, que reconstroi o json a partir do arquivo com a assinatura"
   ]
  },
  {
   "cell_type": "code",
   "execution_count": 32,
   "id": "270cdc04",
   "metadata": {},
   "outputs": [],
   "source": [
    "def parse_signed_document(signed_file_path):\n",
    "    \n",
    "    with open(signed_file_path, 'r') as f:\n",
    "        encoded_content = f.read()\n",
    "    \n",
    "    try:\n",
    "        json_bytes = base64.b64decode(encoded_content)\n",
    "        json_string = json_bytes.decode('utf-8')\n",
    "        signature_data = json.loads(json_string)\n",
    "\n",
    "        hash_algorithm = signature_data.get(\"hash_algorithm\")\n",
    "        \n",
    "        public_key_n = int(signature_data.get(\"public_key_n\"))\n",
    "        public_key_e = int(signature_data.get(\"public_key_e\"))\n",
    "        public_key_signer = (public_key_n, public_key_e)\n",
    "        \n",
    "        signature_b64_from_json = signature_data.get(\"signature\")\n",
    "        \n",
    "        if signature_b64_from_json is None:\n",
    "            raise ValueError(\"Chave 'signature' não encontrada no arquivo JSON assinado.\")\n",
    "\n",
    "        signature_bytes = base64.b64decode(signature_b64_from_json)\n",
    "\n",
    "        return {\n",
    "            \"hash_algorithm\": hash_algorithm,\n",
    "            \"public_key_signer\": public_key_signer,\n",
    "            \"signature_bytes\": signature_bytes\n",
    "        }\n",
    "\n",
    "    except (base64.binascii.Error, json.JSONDecodeError, ValueError, TypeError) as e:\n",
    "        raise ValueError(f\"Erro ao analisar o arquivo de assinatura: {e}. O formato pode estar inválido.\")"
   ]
  },
  {
   "cell_type": "markdown",
   "id": "92950a23",
   "metadata": {},
   "source": [
    "Em seguida é preciso descriptografar o hash"
   ]
  },
  {
   "cell_type": "code",
   "execution_count": 33,
   "id": "63ff9d67",
   "metadata": {},
   "outputs": [],
   "source": [
    "def decrypt_signature_hash(signature_bytes, public_key, expected_hash_byte_length):\n",
    "  \n",
    "    n, e = public_key\n",
    "    k = (n.bit_length() + 7) // 8 \n",
    "\n",
    "    signature_int = os2ip(signature_bytes)\n",
    "\n",
    "    # Validação básica do valor da assinatura\n",
    "    if not (0 <= signature_int < n):\n",
    "        raise ValueError(\"Assinatura inválida: valor fora do intervalo do módulo [0, n-1].\")\n",
    "\n",
    "\n",
    "    decrypted_value_int = pow(signature_int, e, n)\n",
    "    \n",
    "    decrypted_full_bytes = i2osp(decrypted_value_int, k)\n",
    "    \n",
    "    # Se o hash original (ex: 32 bytes) foi assinado diretamente (sem padding complexo),\n",
    "    # ele estará contido nos bytes decifrados, provavelmente no final, com zeros à esquerda.\n",
    "    # Precisamos extrair apenas os bytes que correspondem ao hash.\n",
    "    \n",
    "    # Pega os últimos `expected_hash_byte_length` bytes.\n",
    "    # Ex: se o hash é 32 bytes e o bloco é 128 bytes, pega os últimos 32 bytes.\n",
    "    decrypted_hash_bytes = decrypted_full_bytes[-expected_hash_byte_length:]\n",
    "    \n",
    "    return decrypted_hash_bytes"
   ]
  },
  {
   "cell_type": "markdown",
   "id": "852334e1",
   "metadata": {},
   "source": [
    "Por ultimo fazemos a verificação, comparando o hash recuperado do arquivo .sig e o calculado a partir do original."
   ]
  },
  {
   "cell_type": "code",
   "execution_count": 34,
   "id": "ea9be87a",
   "metadata": {},
   "outputs": [],
   "source": [
    "def verify_signature(original_file_path, signed_file_path):\n",
    "    \n",
    "       # Parsing do documento assinado e extração das informações\n",
    "       signature_info = parse_signed_document(signed_file_path)\n",
    "       \n",
    "       signature_bytes = signature_info[\"signature_bytes\"]\n",
    "       public_key_signer = signature_info[\"public_key_signer\"]\n",
    "       hash_algorithm_name = signature_info[\"hash_algorithm\"]\n",
    "\n",
    "\n",
    "       # Determina o comprimento esperado do hash em bytes\n",
    "       # Usando hashlib para obter o digest_size de forma confiável\n",
    "       try:\n",
    "           hasher_temp = hashlib.new(hash_algorithm_name)\n",
    "           expected_hash_len_bytes = hasher_temp.digest_size\n",
    "       except ValueError:\n",
    "           raise ValueError(f\"Algoritmo de hash '{hash_algorithm_name}' não reconhecido para determinar o tamanho do digest.\")\n",
    "       \n",
    "\n",
    "       # Decifração da assinatura para obter o hash supostamente original\n",
    "       decrypted_hash_bytes = decrypt_signature_hash(signature_bytes, public_key_signer, expected_hash_len_bytes)\n",
    "       print(f\"DEBUG: Decrypted hash (bytes): {decrypted_hash_bytes.hex()}\")\n",
    "\n",
    "       # Recalcular o hash do arquivo original\n",
    "       actual_file_hash_bytes = sha3_hash(original_file_path, hash_algorithm_name)\n",
    "       print(f\"DEBUG: Actual file hash (bytes): {actual_file_hash_bytes.hex()}\")\n",
    "\n",
    "       \n",
    "       if decrypted_hash_bytes == actual_file_hash_bytes:\n",
    "           print(f\"Assinatura válida para o arquivo '{original_file_path}'!\")\n",
    "           return True\n",
    "       else:\n",
    "           print(f\"Assinatura inválida para o arquivo '{original_file_path}'. Os hashes não correspondem.\")\n",
    "           return False"
   ]
  },
  {
   "cell_type": "markdown",
   "id": "71190919",
   "metadata": {},
   "source": [
    "Agora vamos testar a verificação:"
   ]
  },
  {
   "cell_type": "code",
   "execution_count": 35,
   "id": "b8740c93",
   "metadata": {},
   "outputs": [
    {
     "name": "stdout",
     "output_type": "stream",
     "text": [
      "DEBUG: Decrypted hash (bytes): 1f24d41b4fcea277edabd8d5db9b21649bcc63c742d36f0318a290d454e434b9\n",
      "DEBUG: Actual file hash (bytes): 1f24d41b4fcea277edabd8d5db9b21649bcc63c742d36f0318a290d454e434b9\n",
      "Assinatura válida para o arquivo 'documento.txt'!\n",
      "\n",
      "Verificação concluída com sucesso: Assinatura é autêntica.\n"
     ]
    }
   ],
   "source": [
    "is_valid = verify_signature(original_doc, signed_doc_file)\n",
    "\n",
    "if is_valid:\n",
    "    print(\"\\nVerificação concluída com sucesso: Assinatura é autêntica.\")\n",
    "else:\n",
    "    print(\"\\nVerificação concluída: Assinatura não é autêntica ou foi adulterada.\")"
   ]
  },
  {
   "cell_type": "markdown",
   "id": "69a6a135",
   "metadata": {},
   "source": [
    "Agora testaando para o arquivo modificado"
   ]
  },
  {
   "cell_type": "code",
   "execution_count": 36,
   "id": "43570880",
   "metadata": {},
   "outputs": [
    {
     "name": "stdout",
     "output_type": "stream",
     "text": [
      "DEBUG: Decrypted hash (bytes): 1f24d41b4fcea277edabd8d5db9b21649bcc63c742d36f0318a290d454e434b9\n",
      "DEBUG: Actual file hash (bytes): 59f4d3b66211bea5a5e7548bee5c1158bfaa04c8fc761be7ff237e0c83d5e029\n",
      "Assinatura inválida para o arquivo 'documento.txt'. Os hashes não correspondem.\n",
      "\n",
      "Adulteração detectada com sucesso (como esperado).\n"
     ]
    }
   ],
   "source": [
    "with open(\"documento.txt\", \"a\") as f:\n",
    "    f.write(\".\")\n",
    "\n",
    "\n",
    "is_valid_after_tamper = verify_signature(original_doc, signed_doc_file)\n",
    "\n",
    "if not is_valid_after_tamper:\n",
    "    print(\"\\nAdulteração detectada com sucesso (como esperado).\")"
   ]
  }
 ],
 "metadata": {
  "kernelspec": {
   "display_name": "Python 3",
   "language": "python",
   "name": "python3"
  },
  "language_info": {
   "codemirror_mode": {
    "name": "ipython",
    "version": 3
   },
   "file_extension": ".py",
   "mimetype": "text/x-python",
   "name": "python",
   "nbconvert_exporter": "python",
   "pygments_lexer": "ipython3",
   "version": "3.12.7"
  }
 },
 "nbformat": 4,
 "nbformat_minor": 5
}
