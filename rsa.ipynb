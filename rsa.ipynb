{
 "cells": [
  {
   "cell_type": "markdown",
   "id": "ace3f921",
   "metadata": {},
   "source": [
    "Inteiro aleatório"
   ]
  },
  {
   "cell_type": "code",
   "execution_count": null,
   "id": "271e2f46",
   "metadata": {},
   "outputs": [],
   "source": [
    "import secrets\n",
    "\n",
    "def generate_num():\n",
    "    # Gera um inteiro aleatório de 1024 bits\n",
    "    n = secrets.randbits(1024)\n",
    "\n",
    "    # Garante que ele tenha exatamente 1024 bits e seja ímpar:\n",
    "    n |= (1 << 1023)    # define o bit mais significativo\n",
    "    n |= 1              # define o bit 0 para torná-lo ímpar\n",
    "\n",
    "    return n\n",
    "\n",
    "\n",
    "def primes_up_to(n: int) -> list[int]:\n",
    "    if n < 2: \n",
    "        return []\n",
    "    \n",
    "    is_prime = [True] * (n + 1)\n",
    "    is_prime[0] = is_prime[1] = False\n",
    "\n",
    "    # Marca múltiplos de cada primo como compostos\n",
    "    lim = int(n**0.5)\n",
    "    for p in range(2, lim + 1):\n",
    "        if is_prime[p]:\n",
    "            for multiple in range(p * p, n + 1, p):\n",
    "                is_prime[multiple] = False\n",
    "\n",
    "    # Coleta aqueles que permaneceram True\n",
    "    return [i for i, prime in enumerate(is_prime) if prime]\n",
    "\n",
    "\n",
    "def is_divisible_by_small_primes(n: int, primes: list[int]) -> bool:\n",
    "    for p in primes:\n",
    "        if p * p > n:\n",
    "            break\n",
    "\n",
    "        if n % p == 0:\n",
    "            return n != p\n",
    "        \n",
    "    return False\n",
    "    \n",
    "\n",
    "def likely_prime_miller_rabin(n: int, k: int = 40):\n",
    "    s, d = 0, n-1\n",
    "    while d % 2 == 0:\n",
    "        s += 1\n",
    "        d //= 2\n",
    "\n",
    "    for _ in range(k):\n",
    "        a = secrets.randbelow(n-3) + 2  # base aleatória em [2, n-2]\n",
    "        x = pow(a, d, n)\n",
    "        if x in (1, n-1):\n",
    "            continue\n",
    "        for _ in range(s-1):\n",
    "            x = pow(x, 2, n)\n",
    "            if x == n-1:\n",
    "                break\n",
    "        else:\n",
    "            return False\n",
    "        \n",
    "    return True\n",
    "\n",
    "def generate_prime():\n",
    "    primes_up_to_2000 = primes_up_to(2000)\n",
    "\n",
    "    for _ in range(10_000):\n",
    "        num = generate_num()\n",
    "        if is_divisible_by_small_primes(num, primes_up_to_2000):\n",
    "            continue\n",
    "\n",
    "        if likely_prime_miller_rabin(num, 40):\n",
    "            return num\n",
    "        \n",
    "    raise TimeoutError(\"Failed to generate prime after 50k iterations.\")"
   ]
  },
  {
   "cell_type": "code",
   "execution_count": 33,
   "id": "1232995b",
   "metadata": {},
   "outputs": [
    {
     "data": {
      "text/plain": [
       "132969991645413115086731765141296196556073117841327563220755524396879773796629336394602678758629813152277058823390705691896160054431466674540597801714896636350325448064334899567341498138503752296158413913701894368368686943963066281660834317286923214700737732647223160305236049350625574239539860494953737927343"
      ]
     },
     "execution_count": 33,
     "metadata": {},
     "output_type": "execute_result"
    }
   ],
   "source": [
    "num = generate_prime()\n",
    "num"
   ]
  }
 ],
 "metadata": {
  "kernelspec": {
   "display_name": ".venv",
   "language": "python",
   "name": "python3"
  },
  "language_info": {
   "codemirror_mode": {
    "name": "ipython",
    "version": 3
   },
   "file_extension": ".py",
   "mimetype": "text/x-python",
   "name": "python",
   "nbconvert_exporter": "python",
   "pygments_lexer": "ipython3",
   "version": "3.13.3"
  }
 },
 "nbformat": 4,
 "nbformat_minor": 5
}
