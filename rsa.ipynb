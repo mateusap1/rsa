{
 "cells": [
  {
   "cell_type": "markdown",
   "id": "ace3f921",
   "metadata": {},
   "source": [
    "Inteiro aleatório"
   ]
  },
  {
   "cell_type": "code",
   "execution_count": null,
   "id": "271e2f46",
   "metadata": {},
   "outputs": [],
   "source": [
    "import secrets\n",
    "\n",
    "def generate_num():\n",
    "    # Gera um inteiro aleatório de 1024 bits\n",
    "    n = secrets.randbits(1024)\n",
    "\n",
    "    # Garante que ele tenha exatamente 1024 bits e seja ímpar:\n",
    "    n |= (1 << 1023)    # define o bit mais significativo\n",
    "    n |= 1              # define o bit 0 para torná-lo ímpar\n",
    "\n",
    "    return n\n",
    "\n",
    "\n",
    "def primes_up_to(n: int) -> list[int]:\n",
    "    if n < 2: \n",
    "        return []\n",
    "    \n",
    "    is_prime = [True] * (n + 1)\n",
    "    is_prime[0] = is_prime[1] = False\n",
    "\n",
    "    # Marca múltiplos de cada primo como compostos\n",
    "    lim = int(n**0.5)\n",
    "    for p in range(2, lim + 1):\n",
    "        if is_prime[p]:\n",
    "            for multiple in range(p * p, n + 1, p):\n",
    "                is_prime[multiple] = False\n",
    "\n",
    "    # Coleta aqueles que permaneceram True\n",
    "    return [i for i, prime in enumerate(is_prime) if prime]\n",
    "\n",
    "\n",
    "def is_divisible_by_small_primes(n: int, primes: list[int]) -> bool:\n",
    "    for p in primes:\n",
    "        if p * p > n:\n",
    "            break\n",
    "\n",
    "        if n % p == 0:\n",
    "            return n != p\n",
    "        \n",
    "    return False\n",
    "    \n",
    "\n",
    "def likely_prime_miller_rabin(n: int, k: int = 40):\n",
    "    s, d = 0, n-1\n",
    "    while d % 2 == 0:\n",
    "        s += 1\n",
    "        d //= 2\n",
    "\n",
    "    for _ in range(k):\n",
    "        a = secrets.randbelow(n-3) + 2  # base aleatória em [2, n-2]\n",
    "        x = pow(a, d, n)\n",
    "        if x in (1, n-1):\n",
    "            continue\n",
    "        for _ in range(s-1):\n",
    "            x = pow(x, 2, n)\n",
    "            if x == n-1:\n",
    "                break\n",
    "        else:\n",
    "            return False\n",
    "        \n",
    "    return True\n",
    "\n",
    "def generate_prime():\n",
    "    primes_up_to_2000 = primes_up_to(2000)\n",
    "\n",
    "    for _ in range(10_000):\n",
    "        num = generate_num()\n",
    "        if is_divisible_by_small_primes(num, primes_up_to_2000):\n",
    "            continue\n",
    "\n",
    "        if likely_prime_miller_rabin(num, 40):\n",
    "            return num\n",
    "        \n",
    "    raise TimeoutError(\"Failed to generate prime after 50k iterations.\")"
   ]
  },
  {
   "cell_type": "code",
   "execution_count": 33,
   "id": "1232995b",
   "metadata": {},
   "outputs": [
    {
     "data": {
      "text/plain": [
       "132969991645413115086731765141296196556073117841327563220755524396879773796629336394602678758629813152277058823390705691896160054431466674540597801714896636350325448064334899567341498138503752296158413913701894368368686943963066281660834317286923214700737732647223160305236049350625574239539860494953737927343"
      ]
     },
     "execution_count": 33,
     "metadata": {},
     "output_type": "execute_result"
    }
   ],
   "source": [
    "num = generate_prime()\n",
    "num"
   ]
  },
  {
   "cell_type": "markdown",
   "id": "b8ebd14b",
   "metadata": {},
   "source": [
    "# RSA"
   ]
  },
  {
   "cell_type": "code",
   "execution_count": 52,
   "id": "013a5e1f",
   "metadata": {},
   "outputs": [],
   "source": [
    "class PublicKey:\n",
    "    def __init__(self, p: int, q: int):\n",
    "        self.p = p\n",
    "        self.q = q\n",
    "\n",
    "        n = p * q\n",
    "        e = 65537\n",
    "\n",
    "        self.key = (n, e)\n",
    "\n",
    "    def verify(self, message: int, signature: int):\n",
    "        return self.encrypt(signature) == message\n",
    "\n",
    "    def encrypt(self, message: int):\n",
    "        n, e = self.key\n",
    "        return pow(message, e, n)\n",
    "\n",
    "\n",
    "class PrivateKey:\n",
    "    def __init__(self, p: int, q: int):\n",
    "        self.p = p\n",
    "        self.q = q\n",
    "\n",
    "        n = p * q\n",
    "        phi = (p - 1) * (q - 1)\n",
    "        e = 65537\n",
    "        d = pow(e, -1, phi)  # e^-1 (mod phi)\n",
    "\n",
    "        self.key = (n, d)\n",
    "\n",
    "    def sign(self, message: int):\n",
    "        return self.decrypt(message)\n",
    "\n",
    "    def decrypt(self, encrypted: int):\n",
    "        n, d = self.key\n",
    "        return pow(encrypted, d, n)\n",
    "\n",
    "    def derive_public_key(self):\n",
    "        return PublicKey(self.p, self.q)\n",
    "\n",
    "    @staticmethod\n",
    "    def generate():\n",
    "        return PrivateKey(generate_prime(), generate_prime())"
   ]
  },
  {
   "cell_type": "code",
   "execution_count": 53,
   "id": "270cdc04",
   "metadata": {},
   "outputs": [
    {
     "name": "stdout",
     "output_type": "stream",
     "text": [
      "9802800770874020263726328074971390033149990873237056087711617728222194915529507993867258910533701886328964328626983837967592099330677210671439232867589501727063617132224544587097525582064592395048314834251028834582194346275539865243522500937865312843989872827663825136844465443254576784032171925052393445719723676076086770376908106410776378517346477196044721130385370626103157834925044942115706598483090390075293371833754461787480545634412055083140544821534239414562582044549363675436645539107093717045174526681071335075256219423680379200678772303848447378619313137196513863548725756184261772836271167143908927280290\n",
      "42\n"
     ]
    }
   ],
   "source": [
    "private_key = PrivateKey.generate()\n",
    "public_key = private_key.derive_public_key()\n",
    "\n",
    "encrypted = public_key.encrypt(42)\n",
    "print(encrypted)\n",
    "print(private_key.decrypt(encrypted))"
   ]
  },
  {
   "cell_type": "code",
   "execution_count": 58,
   "id": "eae8405d",
   "metadata": {},
   "outputs": [
    {
     "name": "stdout",
     "output_type": "stream",
     "text": [
      "8851725765535431813821541256208142707732301542596334628163123986410958208183189863455739180316042691342676365241388379514685595391265252859647639175620594984199699946133720975540183889559669966026918193785598684146818402345942346343386068703781939875619071527405757843442729918138632330795000171521318003675132581506788596840634257298113586531730525266053454320412931226657509802558827418170615178079895329209096695642051583562888587121729520573152611125470648081810369323537592454392928582477123004066084135261440660353332043724626182026186633297145561617806876684141324455529471892836766469045155744349746184334085\n",
      "True\n"
     ]
    }
   ],
   "source": [
    "private_key = PrivateKey.generate()\n",
    "public_key = private_key.derive_public_key()\n",
    "\n",
    "signature = private_key.sign(42)\n",
    "print(signature)\n",
    "print(public_key.verify(42, signature))"
   ]
  },
  {
   "cell_type": "code",
   "execution_count": null,
   "id": "18698966",
   "metadata": {},
   "outputs": [
    {
     "data": {
      "text/plain": [
       "42"
      ]
     },
     "execution_count": 44,
     "metadata": {},
     "output_type": "execute_result"
    }
   ],
   "source": [
    "private_key.decrypt(cypher)"
   ]
  },
  {
   "cell_type": "code",
   "execution_count": 45,
   "id": "da725a7b",
   "metadata": {},
   "outputs": [],
   "source": [
    "signature = private_key.sign(42)"
   ]
  },
  {
   "cell_type": "code",
   "execution_count": 36,
   "id": "d14dc4f4",
   "metadata": {},
   "outputs": [],
   "source": [
    "p = generate_prime()\n",
    "q = generate_prime()\n",
    "n = p * q\n",
    "\n",
    "phi = (p - 1) * (q - 1)\n",
    "e = 65537\n",
    "d = pow(e, -1, phi) # e^-1 (mod phi)\n",
    "\n",
    "public_key = (n, e)\n",
    "private_key = (n, d)"
   ]
  },
  {
   "cell_type": "code",
   "execution_count": null,
   "id": "edc8d9db",
   "metadata": {},
   "outputs": [],
   "source": [
    "def generate_keys():\n",
    "    p = generate_prime()\n",
    "    q = generate_prime()\n",
    "    n = p * q\n",
    "\n",
    "    phi = (p - 1) * (q - 1)\n",
    "    e = 65537\n",
    "    d = pow(e, -1, phi) # e^-1 (mod phi)\n",
    "\n",
    "    public_key = (n, e)\n",
    "    private_key = (n, d)"
   ]
  },
  {
   "cell_type": "code",
   "execution_count": 37,
   "id": "b08e0d9c",
   "metadata": {},
   "outputs": [],
   "source": [
    "def encrypt(public_key: tuple[int, int], message: int):\n",
    "    n, e = public_key\n",
    "    return pow(message, e, n)\n",
    "\n",
    "def decrypt(private_key: tuple[int, int], cypher: int):\n",
    "    n, d = private_key\n",
    "    return pow(cypher, d, n)"
   ]
  },
  {
   "cell_type": "code",
   "execution_count": 40,
   "id": "18949d4b",
   "metadata": {},
   "outputs": [
    {
     "data": {
      "text/plain": [
       "76"
      ]
     },
     "execution_count": 40,
     "metadata": {},
     "output_type": "execute_result"
    }
   ],
   "source": [
    "decrypt(private_key, encrypt(public_key, 76))"
   ]
  },
  {
   "cell_type": "markdown",
   "id": "5c38d99c",
   "metadata": {},
   "source": [
    "# OAEP"
   ]
  },
  {
   "cell_type": "code",
   "execution_count": null,
   "id": "e4f43d46",
   "metadata": {},
   "outputs": [],
   "source": [
    "import hashlib\n",
    "\n",
    "\n",
    "def sha3_256_hash(data: bytes):\n",
    "    sha3_256_hasher = hashlib.sha3_256()\n",
    "    sha3_256_hasher.update(data)\n",
    "    \n",
    "    return sha3_256_hasher.digest()"
   ]
  },
  {
   "cell_type": "code",
   "execution_count": null,
   "id": "9f20d99d",
   "metadata": {},
   "outputs": [],
   "source": [
    "def generate_datablock()"
   ]
  },
  {
   "cell_type": "markdown",
   "id": "a4cf10c5",
   "metadata": {},
   "source": [
    "# OAEP"
   ]
  }
 ],
 "metadata": {
  "kernelspec": {
   "display_name": ".venv",
   "language": "python",
   "name": "python3"
  },
  "language_info": {
   "codemirror_mode": {
    "name": "ipython",
    "version": 3
   },
   "file_extension": ".py",
   "mimetype": "text/x-python",
   "name": "python",
   "nbconvert_exporter": "python",
   "pygments_lexer": "ipython3",
   "version": "3.13.3"
  }
 },
 "nbformat": 4,
 "nbformat_minor": 5
}
