{
 "cells": [
  {
   "cell_type": "markdown",
   "id": "ace3f921",
   "metadata": {},
   "source": [
    "Inteiro aleatório"
   ]
  },
  {
   "cell_type": "code",
   "execution_count": null,
   "id": "271e2f46",
   "metadata": {},
   "outputs": [],
   "source": [
    "import secrets\n",
    "\n",
    "def generate_num():\n",
    "    # Gera um inteiro aleatório de 1024 bits\n",
    "    n = secrets.randbits(1024)\n",
    "\n",
    "    # Garante que ele tenha exatamente 1024 bits e seja ímpar:\n",
    "    n |= (1 << 1023)    # define o bit mais significativo\n",
    "    n |= 1              # define o bit 0 para torná-lo ímpar\n",
    "\n",
    "    return n\n",
    "\n",
    "\n",
    "def primes_up_to(n: int) -> list[int]:\n",
    "    if n < 2: \n",
    "        return []\n",
    "    \n",
    "    is_prime = [True] * (n + 1)\n",
    "    is_prime[0] = is_prime[1] = False\n",
    "\n",
    "    # Marca múltiplos de cada primo como compostos\n",
    "    lim = int(n**0.5)\n",
    "    for p in range(2, lim + 1):\n",
    "        if is_prime[p]:\n",
    "            for multiple in range(p * p, n + 1, p):\n",
    "                is_prime[multiple] = False\n",
    "\n",
    "    # Coleta aqueles que permaneceram True\n",
    "    return [i for i, prime in enumerate(is_prime) if prime]\n",
    "\n",
    "\n",
    "def is_divisible_by_small_primes(n: int, primes: list[int]) -> bool:\n",
    "    for p in primes:\n",
    "        if p * p > n:\n",
    "            break\n",
    "\n",
    "        if n % p == 0:\n",
    "            return n != p\n",
    "        \n",
    "    return False\n",
    "    \n",
    "\n",
    "def likely_prime_miller_rabin(n: int, k: int = 40):\n",
    "    s, d = 0, n-1\n",
    "    while d % 2 == 0:\n",
    "        s += 1\n",
    "        d //= 2\n",
    "\n",
    "    for _ in range(k):\n",
    "        a = secrets.randbelow(n-3) + 2  # base aleatória em [2, n-2]\n",
    "        x = pow(a, d, n)\n",
    "        if x in (1, n-1):\n",
    "            continue\n",
    "        for _ in range(s-1):\n",
    "            x = pow(x, 2, n)\n",
    "            if x == n-1:\n",
    "                break\n",
    "        else:\n",
    "            return False\n",
    "        \n",
    "    return True\n",
    "\n",
    "def generate_prime():\n",
    "    primes_up_to_2000 = primes_up_to(2000)\n",
    "\n",
    "    for _ in range(10_000):\n",
    "        num = generate_num()\n",
    "        if is_divisible_by_small_primes(num, primes_up_to_2000):\n",
    "            continue\n",
    "\n",
    "        if likely_prime_miller_rabin(num, 40):\n",
    "            return num\n",
    "        \n",
    "    raise TimeoutError(\"Failed to generate prime after 50k iterations.\")"
   ]
  },
  {
   "cell_type": "code",
   "execution_count": 33,
   "id": "1232995b",
   "metadata": {},
   "outputs": [
    {
     "data": {
      "text/plain": [
       "132969991645413115086731765141296196556073117841327563220755524396879773796629336394602678758629813152277058823390705691896160054431466674540597801714896636350325448064334899567341498138503752296158413913701894368368686943963066281660834317286923214700737732647223160305236049350625574239539860494953737927343"
      ]
     },
     "execution_count": 33,
     "metadata": {},
     "output_type": "execute_result"
    }
   ],
   "source": [
    "num = generate_prime()\n",
    "num"
   ]
  },
  {
   "cell_type": "markdown",
   "id": "b8ebd14b",
   "metadata": {},
   "source": [
    "# RSA"
   ]
  },
  {
   "cell_type": "code",
   "execution_count": 52,
   "id": "013a5e1f",
   "metadata": {},
   "outputs": [],
   "source": [
    "class PublicKey:\n",
    "    def __init__(self, p: int, q: int):\n",
    "        self.p = p\n",
    "        self.q = q\n",
    "\n",
    "        n = p * q\n",
    "        e = 65537\n",
    "\n",
    "        self.key = (n, e)\n",
    "\n",
    "    def verify(self, message: int, signature: int):\n",
    "        return self.encrypt(signature) == message\n",
    "\n",
    "    def encrypt(self, message: int):\n",
    "        n, e = self.key\n",
    "        return pow(message, e, n)\n",
    "\n",
    "\n",
    "class PrivateKey:\n",
    "    def __init__(self, p: int, q: int):\n",
    "        self.p = p\n",
    "        self.q = q\n",
    "\n",
    "        n = p * q\n",
    "        phi = (p - 1) * (q - 1)\n",
    "        e = 65537\n",
    "        d = pow(e, -1, phi)  # e^-1 (mod phi)\n",
    "\n",
    "        self.key = (n, d)\n",
    "\n",
    "    def sign(self, message: int):\n",
    "        return self.decrypt(message)\n",
    "\n",
    "    def decrypt(self, encrypted: int):\n",
    "        n, d = self.key\n",
    "        return pow(encrypted, d, n)\n",
    "\n",
    "    def derive_public_key(self):\n",
    "        return PublicKey(self.p, self.q)\n",
    "\n",
    "    @staticmethod\n",
    "    def generate():\n",
    "        return PrivateKey(generate_prime(), generate_prime())"
   ]
  },
  {
   "cell_type": "code",
   "execution_count": 53,
   "id": "270cdc04",
   "metadata": {},
   "outputs": [
    {
     "name": "stdout",
     "output_type": "stream",
     "text": [
      "9802800770874020263726328074971390033149990873237056087711617728222194915529507993867258910533701886328964328626983837967592099330677210671439232867589501727063617132224544587097525582064592395048314834251028834582194346275539865243522500937865312843989872827663825136844465443254576784032171925052393445719723676076086770376908106410776378517346477196044721130385370626103157834925044942115706598483090390075293371833754461787480545634412055083140544821534239414562582044549363675436645539107093717045174526681071335075256219423680379200678772303848447378619313137196513863548725756184261772836271167143908927280290\n",
      "42\n"
     ]
    }
   ],
   "source": [
    "private_key = PrivateKey.generate()\n",
    "public_key = private_key.derive_public_key()\n",
    "\n",
    "encrypted = public_key.encrypt(42)\n",
    "print(encrypted)\n",
    "print(private_key.decrypt(encrypted))"
   ]
  },
  {
   "cell_type": "code",
   "execution_count": 58,
   "id": "eae8405d",
   "metadata": {},
   "outputs": [
    {
     "name": "stdout",
     "output_type": "stream",
     "text": [
      "8851725765535431813821541256208142707732301542596334628163123986410958208183189863455739180316042691342676365241388379514685595391265252859647639175620594984199699946133720975540183889559669966026918193785598684146818402345942346343386068703781939875619071527405757843442729918138632330795000171521318003675132581506788596840634257298113586531730525266053454320412931226657509802558827418170615178079895329209096695642051583562888587121729520573152611125470648081810369323537592454392928582477123004066084135261440660353332043724626182026186633297145561617806876684141324455529471892836766469045155744349746184334085\n",
      "True\n"
     ]
    }
   ],
   "source": [
    "private_key = PrivateKey.generate()\n",
    "public_key = private_key.derive_public_key()\n",
    "\n",
    "signature = private_key.sign(42)\n",
    "print(signature)\n",
    "print(public_key.verify(42, signature))"
   ]
  },
  {
   "cell_type": "markdown",
   "id": "5c38d99c",
   "metadata": {},
   "source": [
    "# OAEP"
   ]
  },
  {
   "cell_type": "code",
   "execution_count": 116,
   "id": "596507d9",
   "metadata": {},
   "outputs": [],
   "source": [
    "import hashlib\n",
    "\n",
    "\n",
    "def hash_sha3(data: bytes):\n",
    "    sha3_256_hasher = hashlib.sha3_256()\n",
    "    sha3_256_hasher.update(data)\n",
    "\n",
    "    return sha3_256_hasher.digest()"
   ]
  },
  {
   "cell_type": "code",
   "execution_count": null,
   "id": "80aaee32",
   "metadata": {},
   "outputs": [],
   "source": [
    "import math\n",
    "\n",
    "\n",
    "def i2osp(x: int, size: int) -> bytes:\n",
    "    # Converte o inteiro x em um array de bytes big-endian de comprimento size.\n",
    "    return x.to_bytes(size, byteorder=\"big\")\n",
    "\n",
    "\n",
    "def mgf(seed: bytes, mask_len: int, hash_bytes: int) -> bytes:\n",
    "    # Limite de segurança: mask_len não pode exceder 2^32 * hash_bytes\n",
    "    if mask_len > (2**32) * hash_bytes:\n",
    "        raise ValueError(\"Mask too long\")\n",
    "\n",
    "    T = bytearray()\n",
    "    # número de iterações necessárias\n",
    "    for counter in range(math.ceil(mask_len / hash_bytes)):\n",
    "        C = i2osp(counter, 4)\n",
    "        T.extend(hash(seed + C))\n",
    "\n",
    "    return bytes(T[:mask_len])"
   ]
  },
  {
   "cell_type": "code",
   "execution_count": 126,
   "id": "e4f43d46",
   "metadata": {},
   "outputs": [],
   "source": [
    "import secrets\n",
    "from typing import Callable, Any\n",
    "\n",
    "\n",
    "def generate_db(\n",
    "    message: bytes,\n",
    "    rsa_bits: int = 1024,\n",
    "    hash_func: Callable[[bytes], bytes] = hash_sha3,\n",
    "    label: bytes = b\"\",\n",
    "):\n",
    "    hash_bytes = len(hash_func(b\"\"))\n",
    "    k = rsa_bits // 8\n",
    "    ps_size = k - len(message) - 2 * hash_bytes - 2\n",
    "\n",
    "    return hash(label) + b\"\\x00\" * ps_size + b\"\\x01\" + message\n",
    "\n",
    "\n",
    "def generate_seed(size: int):\n",
    "    return secrets.token_bytes(size)\n",
    "\n",
    "\n",
    "def oaep_encode(\n",
    "    message: bytes,\n",
    "    rsa_bits: int = 1024,\n",
    "    hash_func: Callable[[bytes], bytes] = hash_sha3,\n",
    "    label: bytes = b\"\",\n",
    "):\n",
    "    hash_bytes = len(hash_func(b\"\"))\n",
    "    k = rsa_bits // 8\n",
    "    if len(message) > k - 2 * hash_bytes - 2:\n",
    "        raise ValueError(\"message too long for OAEP\")\n",
    "\n",
    "    datablock = generate_db(message, rsa_bits, hash_func, label)\n",
    "    seed = generate_seed(hash_bytes)\n",
    "\n",
    "    db_mask = mgf(seed, k - hash_bytes - 1, hash_bytes)\n",
    "    datablock_xor = bytes(a ^ b for a, b in zip(db_mask, datablock))\n",
    "\n",
    "    seed_mask = mgf(datablock_xor, hash_bytes, hash_bytes)\n",
    "    seed_xor = bytes(a ^ b for a, b in zip(seed_mask, seed))\n",
    "\n",
    "    return b\"\\x00\" + seed_xor + datablock_xor\n",
    "\n",
    "\n",
    "def oaep_decode(\n",
    "    encoded_block: bytes, rsa_bits: int = 1024, hash_func=hash_sha3, label: bytes = b\"\"\n",
    ") -> bytes:\n",
    "    hash_bytes = len(hash_func(b\"\"))\n",
    "    k = rsa_bits // 8\n",
    "\n",
    "    if len(encoded_block) != k:\n",
    "        raise ValueError(\"Incorrect block size\")\n",
    "    \n",
    "    if encoded_block[0] != 0:\n",
    "        raise ValueError(\"Decoding error: first byte must be 0x00\")\n",
    "\n",
    "    # split off maskedSeed and maskedDB\n",
    "    maskedSeed = encoded_block[1 : 1 + hash_bytes]\n",
    "    maskedDB = encoded_block[1 + hash_bytes :]\n",
    "\n",
    "    # 1) recover seed = maskedSeed ⊕ MGF1(maskedDB, hash_bytes)\n",
    "    seedMask = mgf(maskedDB, hash_bytes, hash_bytes)\n",
    "    seed = bytes(ms ^ sm for ms, sm in zip(maskedSeed, seedMask))\n",
    "\n",
    "    # 2) recover DB   = maskedDB   ⊕ MGF1(seed, k-hash_bytes-1)\n",
    "    dbMask = mgf(seed, k - hash_bytes - 1, hash_bytes)\n",
    "    DB = bytes(md ^ dm for md, dm in zip(maskedDB, dbMask))\n",
    "\n",
    "    # 3) verify lHash\n",
    "    lHash = hash_func(label)\n",
    "    if DB[:hash_bytes] != lHash:\n",
    "        raise ValueError(\"Decoding error: label hash mismatch\")\n",
    "\n",
    "    # 4) find the 0x01 delimiter and extract M\n",
    "    #    DB = lHash || PS (zeros) || 0x01 || message\n",
    "    try:\n",
    "        idx = DB.index(b\"\\x01\", hash_bytes)\n",
    "    except ValueError:\n",
    "        raise ValueError(\"Decoding error: 0x01 delimiter not found\")\n",
    "\n",
    "    return DB[idx + 1 :]"
   ]
  },
  {
   "cell_type": "code",
   "execution_count": 127,
   "id": "56d38b52",
   "metadata": {},
   "outputs": [
    {
     "data": {
      "text/plain": [
       "b'\\x00\\xa4\\xael\\xf4\\x1cn\\xf2\\xd6\\xd0\\xb7B~]\\x99\\x03\\xdd\\x8a7\\xa2N\\xd6aU\\x07.\\xd1\\x1f\\x98\\xab:\\x89b-\\x9b\\xdb\\x8b\\xea=\\x06\\x12\\x99`\\xcak\\xc8\\xd6c_i\\x8d{\\x8b\\xe8\\x9c\\x99\\x06?\\xfd\\xbd\\xd3%\\xc5=\\xa4\\x00>@\\xdc\\x0bG\\x98\\x9a\\x8d\\xb6\\x93TH\\x90\\xed\\xdf\\xa7\\x1e\\x1fYh\\x90\\xd3%oQ!\\x0b\\\\\\xf6\\x168&&\\xa2\\xbc7\\x89(eO}\\xd9\\xf2\\xe2\\x18\\xe0\\x14\\x0f\\x0f\\xf7\\xfa\\xaaN\\x8c\\xba[AD\\xb4\\xf0\\xa1\\x1e'"
      ]
     },
     "execution_count": 127,
     "metadata": {},
     "output_type": "execute_result"
    }
   ],
   "source": [
    "message = oaep_encode(\"hello\".encode(\"utf-8\"))\n",
    "message"
   ]
  },
  {
   "cell_type": "code",
   "execution_count": 128,
   "id": "8e7ca135",
   "metadata": {},
   "outputs": [
    {
     "data": {
      "text/plain": [
       "'hello'"
      ]
     },
     "execution_count": 128,
     "metadata": {},
     "output_type": "execute_result"
    }
   ],
   "source": [
    "oaep_decode(message).decode(\"utf-8\")"
   ]
  },
  {
   "cell_type": "code",
   "execution_count": 108,
   "id": "62b82a8d",
   "metadata": {},
   "outputs": [
    {
     "data": {
      "text/plain": [
       "b'\\x00\\xcc\\xc1\\xe1\\xbe\\x07\\xea\\x88\\x14\\xdc47]NRp&\\xfbD|R\\xf0\\xcf\\x92k\\xc6\\x07\\xbf\\x02J\\x80\\xf5G\\x08\\x0c\\xb3r\\xfa]\\xf0%\\xf5\\x17\\x97\\xb5\\xed\\xfa\\x10\\xcc\\r\\xa3\\x9d|\\xaa\\x80\\x02\\x14\\x93\\x9f\\xf4Y\\xa8\\xe5\\xb6\\xe4+\\xe0:\\xd7U\\xf1\\xf8{-\\xbd\\xef\\xbd\\xf6\\x17S-[\\xdf\\xd6\\xe8elS\\x1d\\xe1\\xeb\\xa6\\xbf{\\xdc\\xe7\\x89\\xf81\\xd3\\xe3\\x15\\x12o\\xa9@=\\xed\\xfb\\xe3)\\x8agI\\x13\\xe7\\x92\\xe4;2\\x97P\\xc13*\\xb1\\xe1\\x9c'"
      ]
     },
     "execution_count": 108,
     "metadata": {},
     "output_type": "execute_result"
    }
   ],
   "source": [
    "# generate the OAEP‐padded block\n",
    "message = generate_oaep(\"hello\")\n",
    "\n",
    "# turn it into an integer (big-endian!)\n",
    "ct_int = int.from_bytes(message, byteorder=\"big\")\n",
    "\n",
    "# back to bytes: specify the same length and byteorder\n",
    "k = rsa_size // 8\n",
    "recovered = ct_int.to_bytes(k, byteorder=\"big\")\n",
    "\n",
    "assert recovered == message\n",
    "message"
   ]
  },
  {
   "cell_type": "code",
   "execution_count": 113,
   "id": "2d8674f3",
   "metadata": {},
   "outputs": [
    {
     "data": {
      "text/plain": [
       "b'\\x00\\xef\\xc7\\xb1\\xd9\\x8d\\xc6l\\x11i\\xbaX(\\xfbAi\\\\9\\xcd\\x81\\x8b%\\x92q(\\x1f\\xa1\\xcc\\xb6\\x15$e\\xac\\xfa\\x13\\x8b\\x1e^\\xc4\\xa3\\xa2\\xce\\x9d\\x18\"I>\\xc4\\xe4h\\xf5\\x03p\\xfb\\xe2~E}\\xbbH\\x98\\x8d\\xdb\\xe5`\\x08qj\\xb5\\xe2 \\xda e(\\xb2w[\\x1c^<%V\\xe9\\xf0\\x07h\\xea-\\xe8\\x07[\\x15\\x16\\x173\\xf2\\xf6\\xb4wT\\x96\\xa8J\\xd9\\xb1\\xc8?\\x1c\\xcf\\xcbM\\x10O\\x8c\\xe4\\xc8\\x0e\\x08\\x8f\\x96_m\\xab\\'a\\xec6'"
      ]
     },
     "execution_count": 113,
     "metadata": {},
     "output_type": "execute_result"
    }
   ],
   "source": [
    "private_key = PrivateKey.generate()\n",
    "public_key = private_key.derive_public_key()\n",
    "message = generate_oaep(\"hello\")\n",
    "\n",
    "encrypted = public_key.encrypt(int.from_bytes(message, byteorder=\"big\"))\n",
    "message"
   ]
  },
  {
   "cell_type": "code",
   "execution_count": 114,
   "id": "fb0a2ee5",
   "metadata": {},
   "outputs": [
    {
     "data": {
      "text/plain": [
       "b'\\x00\\xef\\xc7\\xb1\\xd9\\x8d\\xc6l\\x11i\\xbaX(\\xfbAi\\\\9\\xcd\\x81\\x8b%\\x92q(\\x1f\\xa1\\xcc\\xb6\\x15$e\\xac\\xfa\\x13\\x8b\\x1e^\\xc4\\xa3\\xa2\\xce\\x9d\\x18\"I>\\xc4\\xe4h\\xf5\\x03p\\xfb\\xe2~E}\\xbbH\\x98\\x8d\\xdb\\xe5`\\x08qj\\xb5\\xe2 \\xda e(\\xb2w[\\x1c^<%V\\xe9\\xf0\\x07h\\xea-\\xe8\\x07[\\x15\\x16\\x173\\xf2\\xf6\\xb4wT\\x96\\xa8J\\xd9\\xb1\\xc8?\\x1c\\xcf\\xcbM\\x10O\\x8c\\xe4\\xc8\\x0e\\x08\\x8f\\x96_m\\xab\\'a\\xec6'"
      ]
     },
     "execution_count": 114,
     "metadata": {},
     "output_type": "execute_result"
    }
   ],
   "source": [
    "decrypted = private_key.decrypt(encrypted)\n",
    "\n",
    "k = rsa_size // 8\n",
    "message = decrypted.to_bytes(k, byteorder=\"big\")\n",
    "message"
   ]
  }
 ],
 "metadata": {
  "kernelspec": {
   "display_name": ".venv",
   "language": "python",
   "name": "python3"
  },
  "language_info": {
   "codemirror_mode": {
    "name": "ipython",
    "version": 3
   },
   "file_extension": ".py",
   "mimetype": "text/x-python",
   "name": "python",
   "nbconvert_exporter": "python",
   "pygments_lexer": "ipython3",
   "version": "3.13.3"
  }
 },
 "nbformat": 4,
 "nbformat_minor": 5
}
