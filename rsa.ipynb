{
 "cells": [
  {
   "cell_type": "markdown",
   "id": "ace3f921",
   "metadata": {},
   "source": [
    "Inteiro aleatório"
   ]
  },
  {
   "cell_type": "code",
   "execution_count": 130,
   "id": "271e2f46",
   "metadata": {},
   "outputs": [],
   "source": [
    "import secrets\n",
    "\n",
    "def generate_num():\n",
    "    # Gera um inteiro aleatório de 1024 bits\n",
    "    n = secrets.randbits(1024)\n",
    "\n",
    "    # Garante que ele tenha exatamente 1024 bits e seja ímpar:\n",
    "    n |= (1 << 1023)    # define o bit mais significativo\n",
    "    n |= 1              # define o bit 0 para torná-lo ímpar\n",
    "\n",
    "    return n\n",
    "\n",
    "\n",
    "def primes_up_to(n: int) -> list[int]:\n",
    "    if n < 2: \n",
    "        return []\n",
    "    \n",
    "    is_prime = [True] * (n + 1)\n",
    "    is_prime[0] = is_prime[1] = False\n",
    "\n",
    "    # Marca múltiplos de cada primo como compostos\n",
    "    lim = int(n**0.5)\n",
    "    for p in range(2, lim + 1):\n",
    "        if is_prime[p]:\n",
    "            for multiple in range(p * p, n + 1, p):\n",
    "                is_prime[multiple] = False\n",
    "\n",
    "    # Coleta aqueles que permaneceram True\n",
    "    return [i for i, prime in enumerate(is_prime) if prime]\n",
    "\n",
    "\n",
    "def is_divisible_by_small_primes(n: int, primes: list[int]) -> bool:\n",
    "    for p in primes:\n",
    "        if p * p > n:\n",
    "            break\n",
    "\n",
    "        if n % p == 0:\n",
    "            return n != p\n",
    "        \n",
    "    return False\n",
    "    \n",
    "\n",
    "def likely_prime_miller_rabin(n: int, k: int = 40):\n",
    "    s, d = 0, n-1\n",
    "    while d % 2 == 0:\n",
    "        s += 1\n",
    "        d //= 2\n",
    "\n",
    "    for _ in range(k):\n",
    "        a = secrets.randbelow(n-3) + 2  # base aleatória em [2, n-2]\n",
    "        x = pow(a, d, n)\n",
    "        if x in (1, n-1):\n",
    "            continue\n",
    "        for _ in range(s-1):\n",
    "            x = pow(x, 2, n)\n",
    "            if x == n-1:\n",
    "                break\n",
    "        else:\n",
    "            return False\n",
    "        \n",
    "    return True\n",
    "\n",
    "def generate_prime():\n",
    "    primes_up_to_2000 = primes_up_to(2000)\n",
    "\n",
    "    for _ in range(10_000):\n",
    "        num = generate_num()\n",
    "        if is_divisible_by_small_primes(num, primes_up_to_2000):\n",
    "            continue\n",
    "\n",
    "        if likely_prime_miller_rabin(num, 40):\n",
    "            return num\n",
    "        \n",
    "    raise TimeoutError(\"Failed to generate prime after 50k iterations.\")"
   ]
  },
  {
   "cell_type": "code",
   "execution_count": 131,
   "id": "1232995b",
   "metadata": {},
   "outputs": [
    {
     "data": {
      "text/plain": [
       "135503862888757185693212828405051416767092771735314514063701781350446801135330331938711781237808372107649546810624430584087712880411052242761837650919564909490841990760316799720824759084447053510189611250005628653039961643053462677663175861274809627007051018062308029994187763690351097188013551140295845661009"
      ]
     },
     "execution_count": 131,
     "metadata": {},
     "output_type": "execute_result"
    }
   ],
   "source": [
    "num = generate_prime()\n",
    "num"
   ]
  },
  {
   "cell_type": "markdown",
   "id": "b8ebd14b",
   "metadata": {},
   "source": [
    "# RSA"
   ]
  },
  {
   "cell_type": "code",
   "execution_count": 132,
   "id": "013a5e1f",
   "metadata": {},
   "outputs": [],
   "source": [
    "class PublicKeyInt:\n",
    "    def __init__(self, p: int, q: int):\n",
    "        self.p = p\n",
    "        self.q = q\n",
    "\n",
    "        n = p * q\n",
    "        e = 65537\n",
    "\n",
    "        self.key = (n, e)\n",
    "\n",
    "    def verify(self, message: int, signature: int):\n",
    "        return self.encrypt(signature) == message\n",
    "\n",
    "    def encrypt(self, message: int):\n",
    "        n, e = self.key\n",
    "        return pow(message, e, n)\n",
    "\n",
    "\n",
    "class PrivateKeyInt:\n",
    "    def __init__(self, p: int, q: int):\n",
    "        self.p = p\n",
    "        self.q = q\n",
    "\n",
    "        n = p * q\n",
    "        phi = (p - 1) * (q - 1)\n",
    "        e = 65537\n",
    "        d = pow(e, -1, phi)  # e^-1 (mod phi)\n",
    "\n",
    "        self.key = (n, d)\n",
    "\n",
    "    def sign(self, message: int):\n",
    "        return self.decrypt(message)\n",
    "\n",
    "    def decrypt(self, encrypted: int):\n",
    "        n, d = self.key\n",
    "        return pow(encrypted, d, n)\n",
    "\n",
    "    def derive_public_key(self):\n",
    "        return PublicKeyInt(self.p, self.q)\n",
    "\n",
    "    @staticmethod\n",
    "    def generate():\n",
    "        return PrivateKeyInt(generate_prime(), generate_prime())"
   ]
  },
  {
   "cell_type": "code",
   "execution_count": 133,
   "id": "270cdc04",
   "metadata": {},
   "outputs": [
    {
     "name": "stdout",
     "output_type": "stream",
     "text": [
      "1109320190365225833453406389234499319043057987857080411113566775728754786632775539482692733861929392901786335312951736435968889738792928693117717356007165216332731593551764084506193117441704077628144170410502675837952450468185623383772794177398753668699977864260972155896396315707843783814953935450737388980924700416744224876539413824158756280413396819086753056188732352299830634505461096594687289018211581529541455152215447652200545980125115734183492458061165808344765709003744958895239884600928346926994909262706084019067936342996575460671035001586541010478525527192697488727027044059674214285667306203984831457495\n",
      "42\n"
     ]
    }
   ],
   "source": [
    "private_key = PrivateKeyInt.generate()\n",
    "public_key = private_key.derive_public_key()\n",
    "\n",
    "encrypted = public_key.encrypt(42)\n",
    "print(encrypted)\n",
    "print(private_key.decrypt(encrypted))"
   ]
  },
  {
   "cell_type": "code",
   "execution_count": 134,
   "id": "eae8405d",
   "metadata": {},
   "outputs": [
    {
     "name": "stdout",
     "output_type": "stream",
     "text": [
      "9366872236560745850060376424351834871765556244900581842670549270610694848226889795841396547374433219203873688317609664752272437620541548040342886314053495676556964020408538008615770730752812665666141660705800515316946372158969444592864906595660526598614217358922153963593697066648530019117909785419491086778107573706479753082640127080879514672797556709263201269297499937643720903888686096883316089334907145548348909884521163193435008553912537486632810514808563178981540194211504950935184661289555748919066333358818713800537625323257525499122439157438782335667705724532486809248867249689332764164847450791992930879823\n",
      "True\n"
     ]
    }
   ],
   "source": [
    "private_key = PrivateKeyInt.generate()\n",
    "public_key = private_key.derive_public_key()\n",
    "\n",
    "signature = private_key.sign(42)\n",
    "print(signature)\n",
    "print(public_key.verify(42, signature))"
   ]
  },
  {
   "cell_type": "markdown",
   "id": "5c38d99c",
   "metadata": {},
   "source": [
    "# OAEP"
   ]
  },
  {
   "cell_type": "code",
   "execution_count": 135,
   "id": "596507d9",
   "metadata": {},
   "outputs": [],
   "source": [
    "import hashlib\n",
    "\n",
    "\n",
    "def hash_sha3(data: bytes):\n",
    "    sha3_256_hasher = hashlib.sha3_256()\n",
    "    sha3_256_hasher.update(data)\n",
    "\n",
    "    return sha3_256_hasher.digest()"
   ]
  },
  {
   "cell_type": "code",
   "execution_count": 136,
   "id": "80aaee32",
   "metadata": {},
   "outputs": [],
   "source": [
    "import math\n",
    "\n",
    "\n",
    "def i2osp(x: int, size: int) -> bytes:\n",
    "    # Converte o inteiro x em um array de bytes big-endian de comprimento size.\n",
    "    return x.to_bytes(size, byteorder=\"big\")\n",
    "\n",
    "\n",
    "def mgf(seed: bytes, mask_len: int, hash_bytes: int) -> bytes:\n",
    "    # Limite de segurança: mask_len não pode exceder 2^32 * hash_bytes\n",
    "    if mask_len > (2**32) * hash_bytes:\n",
    "        raise ValueError(\"Mask too long\")\n",
    "\n",
    "    T = bytearray()\n",
    "    # número de iterações necessárias\n",
    "    for counter in range(math.ceil(mask_len / hash_bytes)):\n",
    "        C = i2osp(counter, 4)\n",
    "        T.extend(hash(seed + C))\n",
    "\n",
    "    return bytes(T[:mask_len])"
   ]
  },
  {
   "cell_type": "code",
   "execution_count": 137,
   "id": "e4f43d46",
   "metadata": {},
   "outputs": [],
   "source": [
    "import secrets\n",
    "from typing import Callable, Any\n",
    "\n",
    "\n",
    "def generate_db(\n",
    "    message: bytes,\n",
    "    rsa_bits: int = 1024,\n",
    "    hash_func: Callable[[bytes], bytes] = hash_sha3,\n",
    "    label: bytes = b\"\",\n",
    "):\n",
    "    hash_bytes = len(hash_func(b\"\"))\n",
    "    k = rsa_bits // 8\n",
    "    ps_size = k - len(message) - 2 * hash_bytes - 2\n",
    "\n",
    "    return hash(label) + b\"\\x00\" * ps_size + b\"\\x01\" + message\n",
    "\n",
    "\n",
    "def generate_seed(size: int):\n",
    "    return secrets.token_bytes(size)\n",
    "\n",
    "\n",
    "def oaep_encode(\n",
    "    message: bytes,\n",
    "    rsa_bits: int = 1024,\n",
    "    hash_func: Callable[[bytes], bytes] = hash_sha3,\n",
    "    label: bytes = b\"\",\n",
    "):\n",
    "    hash_bytes = len(hash_func(b\"\"))\n",
    "    k = rsa_bits // 8\n",
    "    if len(message) > k - 2 * hash_bytes - 2:\n",
    "        raise ValueError(\"message too long for OAEP\")\n",
    "\n",
    "    datablock = generate_db(message, rsa_bits, hash_func, label)\n",
    "    seed = generate_seed(hash_bytes)\n",
    "\n",
    "    db_mask = mgf(seed, k - hash_bytes - 1, hash_bytes)\n",
    "    datablock_xor = bytes(a ^ b for a, b in zip(db_mask, datablock))\n",
    "\n",
    "    seed_mask = mgf(datablock_xor, hash_bytes, hash_bytes)\n",
    "    seed_xor = bytes(a ^ b for a, b in zip(seed_mask, seed))\n",
    "\n",
    "    return b\"\\x00\" + seed_xor + datablock_xor\n",
    "\n",
    "\n",
    "def oaep_decode(\n",
    "    encoded_block: bytes, rsa_bits: int = 1024, hash_func=hash_sha3, label: bytes = b\"\"\n",
    ") -> bytes:\n",
    "    hash_bytes = len(hash_func(b\"\"))\n",
    "    k = rsa_bits // 8\n",
    "\n",
    "    if len(encoded_block) != k:\n",
    "        raise ValueError(\"Incorrect block size\")\n",
    "    \n",
    "    if encoded_block[0] != 0:\n",
    "        raise ValueError(\"Decoding error: first byte must be 0x00\")\n",
    "\n",
    "    # split off maskedSeed and maskedDB\n",
    "    maskedSeed = encoded_block[1 : 1 + hash_bytes]\n",
    "    maskedDB = encoded_block[1 + hash_bytes :]\n",
    "\n",
    "    # 1) recover seed = maskedSeed ⊕ MGF1(maskedDB, hash_bytes)\n",
    "    seedMask = mgf(maskedDB, hash_bytes, hash_bytes)\n",
    "    seed = bytes(ms ^ sm for ms, sm in zip(maskedSeed, seedMask))\n",
    "\n",
    "    # 2) recover DB   = maskedDB   ⊕ MGF1(seed, k-hash_bytes-1)\n",
    "    dbMask = mgf(seed, k - hash_bytes - 1, hash_bytes)\n",
    "    DB = bytes(md ^ dm for md, dm in zip(maskedDB, dbMask))\n",
    "\n",
    "    # 3) verify lHash\n",
    "    lHash = hash_func(label)\n",
    "    if DB[:hash_bytes] != lHash:\n",
    "        raise ValueError(\"Decoding error: label hash mismatch\")\n",
    "\n",
    "    # 4) find the 0x01 delimiter and extract M\n",
    "    #    DB = lHash || PS (zeros) || 0x01 || message\n",
    "    try:\n",
    "        idx = DB.index(b\"\\x01\", hash_bytes)\n",
    "    except ValueError:\n",
    "        raise ValueError(\"Decoding error: 0x01 delimiter not found\")\n",
    "\n",
    "    return DB[idx + 1 :]"
   ]
  },
  {
   "cell_type": "code",
   "execution_count": 138,
   "id": "56d38b52",
   "metadata": {},
   "outputs": [
    {
     "data": {
      "text/plain": [
       "b'\\x00|\\xeaK\\xbc\\x8d\\xd1^t\\x95LK\\xd1f\\xfdK\\x9c\\xd0\\x1b\\xd5\\xda\\xb6\\xb1$\\x1f&\\xd0\\xd5\\x02\\xa3\\xfb\\x05\\x1f0\\xc3\\xe3\\x1f\\x82\\xcdC\\xb3\\xed8\\xb3\\xd5\\xd9\\x9ae$\\xd7c\\x0crL\\xe7\\xf9\\xee\\x15\\xb0\\xdb#K\\x88x-\\xbb\\x03\\x8a\\x1a\\xbf^/>\\xf6w\\x18\\xa6\\xd1\\xdf|\\xaa*\\xfe\\xc1\\xfb6\\x9e\\x1f\\xb5rh\\x05d\\t6nfP=~!\\xd9\\x13\\xed\\xb6\\x0c]\\xce\\x013W\\x1b\\xe91\\xf9\\xcaI\\x1e\\x8e\\xeaw\\xe5\\xb0\\xc6\\x8ae|\\x9d'"
      ]
     },
     "execution_count": 138,
     "metadata": {},
     "output_type": "execute_result"
    }
   ],
   "source": [
    "message = oaep_encode(\"hello\".encode(\"utf-8\"))\n",
    "message"
   ]
  },
  {
   "cell_type": "code",
   "execution_count": 139,
   "id": "8e7ca135",
   "metadata": {},
   "outputs": [
    {
     "data": {
      "text/plain": [
       "'hello'"
      ]
     },
     "execution_count": 139,
     "metadata": {},
     "output_type": "execute_result"
    }
   ],
   "source": [
    "oaep_decode(message).decode(\"utf-8\")"
   ]
  },
  {
   "cell_type": "code",
   "execution_count": 149,
   "id": "8080b314",
   "metadata": {},
   "outputs": [],
   "source": [
    "class PublicKey:\n",
    "    def __init__(self, public_key: PublicKeyInt, rsa_bits: int = 2048):\n",
    "        self.public_key = public_key\n",
    "        self.rsa_bits = rsa_bits\n",
    "\n",
    "    def encrypt(self, message: bytes):\n",
    "        encoded = oaep_encode(message, self.rsa_bits)\n",
    "        encrypted = self.public_key.encrypt(int.from_bytes(encoded, byteorder=\"big\"))\n",
    "        return encrypted.to_bytes(self.rsa_bits // 8, byteorder=\"big\")\n",
    "\n",
    "\n",
    "class PrivateKey:\n",
    "    def __init__(self, private_key: PrivateKeyInt, rsa_bits: int = 2048):\n",
    "        self.private_key = private_key\n",
    "        self.rsa_bits = rsa_bits\n",
    "\n",
    "    def decrypt(self, encrypted: bytes):\n",
    "        decrypted = self.private_key.decrypt(int.from_bytes(encrypted, byteorder=\"big\"))\n",
    "        decrypted_bytes = decrypted.to_bytes(self.rsa_bits // 8, byteorder=\"big\")\n",
    "        return oaep_decode(decrypted_bytes, self.rsa_bits)\n",
    "\n",
    "    def derive_public_key(self):\n",
    "        return PublicKey(self.private_key.derive_public_key())\n",
    "    \n",
    "    @staticmethod\n",
    "    def generate():\n",
    "        return PrivateKey(PrivateKeyInt.generate())"
   ]
  },
  {
   "cell_type": "code",
   "execution_count": 150,
   "id": "39ccc9c8",
   "metadata": {},
   "outputs": [],
   "source": [
    "private_key = PrivateKey.generate()\n",
    "public_key = private_key.derive_public_key()"
   ]
  },
  {
   "cell_type": "code",
   "execution_count": 151,
   "id": "3433e6b8",
   "metadata": {},
   "outputs": [
    {
     "data": {
      "text/plain": [
       "b'4\\x80C\\xe4\\xe6s\\x92K\\x95\\xb2\\x9b/c\\xa4\\xecU\\x80\\xe7B\\xc4m\\xa3\\xb0o\\xa3\\x06\\xb7\\xc6(\\xd0s\\xf4\\x02?8}\\xd3\\xd3%\\xc96\\xc2\\xc2i\\xcb;z\\x12\\'\\xb4B)\\xc2\\xce\"\\x92\\xa7\\x17t_l+L5\\xed\\xb1-\\xee\\x89\\xd8[n\\xf8\\xcdhI\\xee\\xeb\\n\"\\x0f\\x92H\\x8e\\xf5\\xee\\xfe\\xef\\xbdt\\x0f\\x91G\\xee\\xc73\\nX\\x82\\xb8>\\xf1\\x16{\\xb9\\xbc\\xa2\\xb9k\\x0e\\x83\\xd3\\x83 Y\\xb0\\x15D\\xfb\\xb3\\xed\\xd6\\xed\\xcb\\x971\\xd9\\xd17\\xef\\xa1\\x8cC\\x85>\\xbe\\x0b\\xfe\\x12\\xc7\\xca\\xdb6\\x1a\\x8c\\x0f\\xc0\\xd8@\\xc2\\x05M\\xb4\\xad><\\x12\\xdf\\x0cR\\x83\\x12\\x8f%-\\x04-\\x7f\\x14K/\\xe2\\xa3\\x05\\x7f\\xdc\\x0f\\xe0~^\\xc5v\\xc4\\xcf@\\x84:Z\\xe300\\xbe\\xf5\\x04F\\x0fX6$Y\\xdf\\x0bC\\xfd\\xa7}_\\x0c_\\xe1V/\\x86\\xd8\\xbc\\xee\\xe9\\x016(\\xcdz[YZ/\\xc2a\\xa7G1fc\\x97b\\xe3\\x8d\\xa3\\xe4\\xb4~\\xe1\\x9a3/-x\\xe8\\x11\\xeb\\xb9T7.\\x0f\\x8e'"
      ]
     },
     "execution_count": 151,
     "metadata": {},
     "output_type": "execute_result"
    }
   ],
   "source": [
    "message = \"Attack at Dawn\"\n",
    "encrypted = public_key.encrypt(message.encode(\"utf-8\"))\n",
    "encrypted"
   ]
  },
  {
   "cell_type": "code",
   "execution_count": 152,
   "id": "1c266d98",
   "metadata": {},
   "outputs": [
    {
     "data": {
      "text/plain": [
       "'Attack at Dawn'"
      ]
     },
     "execution_count": 152,
     "metadata": {},
     "output_type": "execute_result"
    }
   ],
   "source": [
    "decrypted = private_key.decrypt(encrypted)\n",
    "decrypted.decode(\"utf-8\")"
   ]
  }
 ],
 "metadata": {
  "kernelspec": {
   "display_name": ".venv",
   "language": "python",
   "name": "python3"
  },
  "language_info": {
   "codemirror_mode": {
    "name": "ipython",
    "version": 3
   },
   "file_extension": ".py",
   "mimetype": "text/x-python",
   "name": "python",
   "nbconvert_exporter": "python",
   "pygments_lexer": "ipython3",
   "version": "3.13.3"
  }
 },
 "nbformat": 4,
 "nbformat_minor": 5
}
