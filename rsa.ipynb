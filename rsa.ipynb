{
 "cells": [
  {
   "cell_type": "markdown",
   "id": "ace3f921",
   "metadata": {},
   "source": [
    "Inteiro aleatório"
   ]
  },
  {
   "cell_type": "code",
   "execution_count": 1,
   "id": "271e2f46",
   "metadata": {},
   "outputs": [],
   "source": [
    "import secrets\n",
    "\n",
    "def generate_num():\n",
    "    # Gera um inteiro aleatório de 1024 bits\n",
    "    n = secrets.randbits(1024)\n",
    "\n",
    "    # Garante que ele tenha exatamente 1024 bits e seja ímpar:\n",
    "    n |= (1 << 1023)    # define o bit mais significativo\n",
    "    n |= 1              # define o bit 0 para torná-lo ímpar\n",
    "\n",
    "    return n\n",
    "\n",
    "\n",
    "def primes_up_to(n: int) -> list[int]:\n",
    "    if n < 2: \n",
    "        return []\n",
    "    \n",
    "    is_prime = [True] * (n + 1)\n",
    "    is_prime[0] = is_prime[1] = False\n",
    "\n",
    "    # Marca múltiplos de cada primo como compostos\n",
    "    lim = int(n**0.5)\n",
    "    for p in range(2, lim + 1):\n",
    "        if is_prime[p]:\n",
    "            for multiple in range(p * p, n + 1, p):\n",
    "                is_prime[multiple] = False\n",
    "\n",
    "    # Coleta aqueles que permaneceram True\n",
    "    return [i for i, prime in enumerate(is_prime) if prime]\n",
    "\n",
    "\n",
    "def is_divisible_by_small_primes(n: int, primes: list[int]) -> bool:\n",
    "    for p in primes:\n",
    "        if p * p > n:\n",
    "            break\n",
    "\n",
    "        if n % p == 0:\n",
    "            return n != p\n",
    "        \n",
    "    return False\n",
    "    \n",
    "\n",
    "def likely_prime_miller_rabin(n: int, k: int = 40):\n",
    "    s, d = 0, n-1\n",
    "    while d % 2 == 0:\n",
    "        s += 1\n",
    "        d //= 2\n",
    "\n",
    "    for _ in range(k):\n",
    "        a = secrets.randbelow(n-3) + 2  # base aleatória em [2, n-2]\n",
    "        x = pow(a, d, n)\n",
    "        if x in (1, n-1):\n",
    "            continue\n",
    "        for _ in range(s-1):\n",
    "            x = pow(x, 2, n)\n",
    "            if x == n-1:\n",
    "                break\n",
    "        else:\n",
    "            return False\n",
    "        \n",
    "    return True\n",
    "\n",
    "def generate_prime():\n",
    "    primes_up_to_2000 = primes_up_to(2000)\n",
    "\n",
    "    for _ in range(10_000):\n",
    "        num = generate_num()\n",
    "        if is_divisible_by_small_primes(num, primes_up_to_2000):\n",
    "            continue\n",
    "\n",
    "        if likely_prime_miller_rabin(num, 40):\n",
    "            return num\n",
    "        \n",
    "    raise TimeoutError(\"Failed to generate prime after 50k iterations.\")"
   ]
  },
  {
   "cell_type": "code",
   "execution_count": 2,
   "id": "1232995b",
   "metadata": {},
   "outputs": [
    {
     "data": {
      "text/plain": [
       "99039502339928311167911017692805904869657351799754507225836299038483488945891077793379396270992078273771847975267831889726789026400191041905003266300616353557397696354763691625919309798502816656382834356973953067464397789240706231468298086177502287658988735284748592871649583414565453924263591908381205734279"
      ]
     },
     "execution_count": 2,
     "metadata": {},
     "output_type": "execute_result"
    }
   ],
   "source": [
    "num = generate_prime()\n",
    "num"
   ]
  },
  {
   "cell_type": "markdown",
   "id": "b8ebd14b",
   "metadata": {},
   "source": [
    "# RSA"
   ]
  },
  {
   "cell_type": "code",
   "execution_count": 3,
   "id": "013a5e1f",
   "metadata": {},
   "outputs": [],
   "source": [
    "class PublicKeyInt:\n",
    "    def __init__(self, p: int, q: int):\n",
    "        self.p = p\n",
    "        self.q = q\n",
    "\n",
    "        n = p * q\n",
    "        e = 65537\n",
    "\n",
    "        self.key = (n, e)\n",
    "\n",
    "    def verify(self, message: int, signature: int):\n",
    "        return self.encrypt(signature) == message\n",
    "\n",
    "    def encrypt(self, message: int):\n",
    "        n, e = self.key\n",
    "        return pow(message, e, n)\n",
    "\n",
    "\n",
    "class PrivateKeyInt:\n",
    "    def __init__(self, p: int, q: int):\n",
    "        self.p = p\n",
    "        self.q = q\n",
    "\n",
    "        n = p * q\n",
    "        phi = (p - 1) * (q - 1)\n",
    "        e = 65537\n",
    "        d = pow(e, -1, phi)  # e^-1 (mod phi)\n",
    "\n",
    "        self.key = (n, d)\n",
    "\n",
    "    def sign(self, message: int):\n",
    "        return self.decrypt(message)\n",
    "\n",
    "    def decrypt(self, encrypted: int):\n",
    "        n, d = self.key\n",
    "        return pow(encrypted, d, n)\n",
    "\n",
    "    def derive_public_key(self):\n",
    "        return PublicKeyInt(self.p, self.q)\n",
    "\n",
    "    @staticmethod\n",
    "    def generate():\n",
    "        return PrivateKeyInt(generate_prime(), generate_prime())"
   ]
  },
  {
   "cell_type": "code",
   "execution_count": 4,
   "id": "270cdc04",
   "metadata": {},
   "outputs": [
    {
     "name": "stdout",
     "output_type": "stream",
     "text": [
      "Chave privada: (17631324864090333423883312230479075892941306243114681948164588717202910649125611972634851398058974549680616159285815331048222023357237688100578883790172618752576490884210222982994560515642287499314228197274337953023526563772951205936142296973936144522510888730897139855194432554584657971516208092896661972714309836523375461402100050868090676874451440127356723169068266052466746929762672821710097782641206169089268510298049584135652971282059267211747412825282183963936791120878195965083926774881763786622079723091709580831408978532622162508570985879120923961081870023950433015675792047922240117495569280413016169378077, 10580355284113472281222559827277432545243079358670891430145062255979920808227597657197971158015523308815467175982918738109228004556104853710416502764848997517453167424420093221771061781271341116819963784463816821284301275616256847689955357361352528980290648519290213409602005638138844144586865921196269619648411275323411603685002905860100494422350560199226261397704290931484625346516845208443189942726978086133417553223867724981798177938418896201833612053490668009333571992447413306634006846052794448552556986538860599525169949766071302642709792651335756386307943011396059195148957582726026719191936895388922761583617)\n",
      "Chave pública: (17631324864090333423883312230479075892941306243114681948164588717202910649125611972634851398058974549680616159285815331048222023357237688100578883790172618752576490884210222982994560515642287499314228197274337953023526563772951205936142296973936144522510888730897139855194432554584657971516208092896661972714309836523375461402100050868090676874451440127356723169068266052466746929762672821710097782641206169089268510298049584135652971282059267211747412825282183963936791120878195965083926774881763786622079723091709580831408978532622162508570985879120923961081870023950433015675792047922240117495569280413016169378077, 65537)\n",
      "Valor criptografado: 4731022683466246156110100478972050989283015145179632424676867794820803511842799116086838023110685578548014805938252577160328375420672825650773087687208484474618774901999011044159284436531917775190333611107061653356752031164505417947819794008942680262871378220159122379017888721587921301628400346931037445697290168054612326338159627652047883859257786188137302092259094513810358833051503117352497379553847064976507146157550197272123859054140479062873119255760619735859165356378607581418212875227537298482537439396851990116302019179392708292996890799521329464907427323566028530682577825764775931053480249752700292213859\n",
      "Valor descriptografado: 42\n"
     ]
    }
   ],
   "source": [
    "private_key = PrivateKeyInt.generate()\n",
    "public_key = private_key.derive_public_key()\n",
    "\n",
    "print(\"Chave privada:\", private_key.key)\n",
    "print(\"Chave pública:\", public_key.key)\n",
    "\n",
    "encrypted = public_key.encrypt(42)\n",
    "print(\"Valor criptografado:\", encrypted)\n",
    "print(\"Valor descriptografado:\", private_key.decrypt(encrypted))"
   ]
  },
  {
   "cell_type": "code",
   "execution_count": 5,
   "id": "eae8405d",
   "metadata": {},
   "outputs": [
    {
     "name": "stdout",
     "output_type": "stream",
     "text": [
      "1253795199040440088767614308298817598717295358778549032857305244912163498291340505627525733019343614177894747272518776771915202064041437448219674355416141987094037122856482425730865887056624416097464408284535945648361803204979237015356904014038823145036559365274229197505438264562712955994231611172974391144332681967838744289766034528564931949574596289067926551131532642368979492079250833187084763252385453370059955328860673165643539442393902846194129127622486855983814679174082873436265485366161350877549752291579138229527165673690534327172762051601160387414269832185104589343215887362979914348828958221668254227182\n",
      "True\n"
     ]
    }
   ],
   "source": [
    "private_key = PrivateKeyInt.generate()\n",
    "public_key = private_key.derive_public_key()\n",
    "\n",
    "signature = private_key.sign(42)\n",
    "print(signature)\n",
    "print(public_key.verify(42, signature))"
   ]
  },
  {
   "cell_type": "markdown",
   "id": "5c38d99c",
   "metadata": {},
   "source": [
    "# OAEP"
   ]
  },
  {
   "cell_type": "code",
   "execution_count": 6,
   "id": "596507d9",
   "metadata": {},
   "outputs": [],
   "source": [
    "import hashlib\n",
    "\n",
    "\n",
    "def hash_sha3(data: bytes):\n",
    "    sha3_256_hasher = hashlib.sha3_256()\n",
    "    sha3_256_hasher.update(data)\n",
    "\n",
    "    return sha3_256_hasher.digest()"
   ]
  },
  {
   "cell_type": "code",
   "execution_count": 21,
   "id": "80aaee32",
   "metadata": {},
   "outputs": [],
   "source": [
    "import math\n",
    "from typing import Callable\n",
    "\n",
    "\n",
    "def i2osp(x: int, size: int) -> bytes:\n",
    "    # Converte o inteiro x em um array de bytes big-endian de comprimento size.\n",
    "    return x.to_bytes(size, byteorder=\"big\")\n",
    "\n",
    "\n",
    "def mgf(seed: bytes, mask_len: int, hash_func: Callable[[bytes], bytes] = hash_sha3) -> bytes:\n",
    "    hash_bytes = len(hash_func(b\"\"))\n",
    "    \n",
    "    # Limite de segurança: mask_len não pode exceder 2^32 * hash_bytes\n",
    "    if mask_len > (2**32) * hash_bytes:\n",
    "        raise ValueError(\"Mask too long\")\n",
    "\n",
    "    T = bytearray()\n",
    "    # número de iterações necessárias\n",
    "    for counter in range(math.ceil(mask_len / hash_bytes)):\n",
    "        C = i2osp(counter, 4)\n",
    "        T.extend(hash_func(seed + C))\n",
    "\n",
    "    return bytes(T[:mask_len])"
   ]
  },
  {
   "cell_type": "code",
   "execution_count": 20,
   "id": "e4f43d46",
   "metadata": {},
   "outputs": [],
   "source": [
    "import secrets\n",
    "from typing import Callable, Any\n",
    "\n",
    "\n",
    "def generate_db(\n",
    "    message: bytes,\n",
    "    rsa_bits: int = 1024,\n",
    "    hash_func: Callable[[bytes], bytes] = hash_sha3,\n",
    "    label: bytes = b\"\",\n",
    "):\n",
    "    hash_bytes = len(hash_func(b\"\"))\n",
    "    k = rsa_bits // 8\n",
    "    ps_size = k - len(message) - 2 * hash_bytes - 2\n",
    "\n",
    "    return hash_func(label) + (b\"\\x00\" * ps_size) + b\"\\x01\" + message\n",
    "\n",
    "\n",
    "def generate_seed(size: int):\n",
    "    return secrets.token_bytes(size)\n",
    "\n",
    "\n",
    "def oaep_encode(\n",
    "    message: bytes,\n",
    "    rsa_bits: int = 1024,\n",
    "    hash_func: Callable[[bytes], bytes] = hash_sha3,\n",
    "    label: bytes = b\"\",\n",
    "):\n",
    "    hash_bytes = len(hash_func(b\"\"))\n",
    "    k = rsa_bits // 8\n",
    "    if len(message) > k - 2 * hash_bytes - 2:\n",
    "        raise ValueError(\"message too long for OAEP\")\n",
    "\n",
    "    datablock = generate_db(message, rsa_bits, hash_func, label)\n",
    "    seed = generate_seed(hash_bytes)\n",
    "\n",
    "    db_mask = mgf(seed, k - hash_bytes - 1, hash_func)\n",
    "    datablock_xor = bytes(a ^ b for a, b in zip(db_mask, datablock))\n",
    "\n",
    "    seed_mask = mgf(datablock_xor, hash_bytes, hash_func)\n",
    "    seed_xor = bytes(a ^ b for a, b in zip(seed_mask, seed))\n",
    "\n",
    "    return b\"\\x00\" + seed_xor + datablock_xor\n",
    "\n",
    "\n",
    "def oaep_decode(\n",
    "    encoded_block: bytes, rsa_bits: int = 1024, hash_func=hash_sha3, label: bytes = b\"\"\n",
    ") -> bytes:\n",
    "    hash_bytes = len(hash_func(b\"\"))\n",
    "    k = rsa_bits // 8\n",
    "\n",
    "    if len(encoded_block) != k:\n",
    "        raise ValueError(\"Incorrect block size\")\n",
    "    \n",
    "    if encoded_block[0] != 0:\n",
    "        raise ValueError(\"Decoding error: first byte must be 0x00\")\n",
    "\n",
    "    # split off maskedSeed and maskedDB\n",
    "    maskedSeed = encoded_block[1 : 1 + hash_bytes]\n",
    "    maskedDB = encoded_block[1 + hash_bytes :]\n",
    "\n",
    "    # 1) recover seed = maskedSeed ⊕ MGF1(maskedDB, hash_bytes)\n",
    "    seedMask = mgf(maskedDB, hash_bytes, hash_func)\n",
    "    seed = bytes(ms ^ sm for ms, sm in zip(maskedSeed, seedMask))\n",
    "\n",
    "    # 2) recover DB   = maskedDB   ⊕ MGF1(seed, k-hash_bytes-1)\n",
    "    dbMask = mgf(seed, k - hash_bytes - 1, hash_func)\n",
    "    DB = bytes(md ^ dm for md, dm in zip(maskedDB, dbMask))\n",
    "\n",
    "    # 3) verify lHash\n",
    "    lHash = hash_func(label)\n",
    "    if DB[:hash_bytes] != lHash:\n",
    "        raise ValueError(\"Decoding error: label hash mismatch\")\n",
    "\n",
    "    # 4) find the 0x01 delimiter and extract M\n",
    "    #    DB = lHash || PS (zeros) || 0x01 || message\n",
    "    try:\n",
    "        idx = DB.index(b\"\\x01\", hash_bytes)\n",
    "    except ValueError:\n",
    "        raise ValueError(\"Decoding error: 0x01 delimiter not found\")\n",
    "\n",
    "    return DB[idx + 1 :]"
   ]
  },
  {
   "cell_type": "code",
   "execution_count": 22,
   "id": "56d38b52",
   "metadata": {},
   "outputs": [
    {
     "data": {
      "text/plain": [
       "b'\\x00\\xf1\\x06\\xdc\\x04\\xeb\\xd9=\\xa0\\xdd\\xfb\\xd5\\x87)\\x15dwm\\x9cgA\\xca\\xb3\\xb2\\xe7\\xa5\"|m\\x8e\\xeb\\xe2\\x18\\n/F\\xac\\xf2\\xbd\\n\\xc1(\\xe1\\xc7p\\x19\\xe2x\\xc5\\x90\\xe6+}&\\xff\\xf9X\\x06\\x89\\xd1\\xbb\\xe6,5\\x8f\\x83\\x0f\\x1f\\xae\\xe8&\\xa5:s\\xd7\\xa2\\x95\\x0f\\xbfr\\xe8\\xd1]\\x1c\\xcd\\xe5\\x9dg\\xc6%:\\xb8\\x1f$\\xea\\xa1\\x83s\\xac\\x7fB\\xd6\\x83\\xec\\xe2\\xe4\\x9f$\\t\\x1c\\xc5\\x84 \\xce*\\xbb\\xbd%D\\xfa!g}^M\\x1d\\xfbE'"
      ]
     },
     "execution_count": 22,
     "metadata": {},
     "output_type": "execute_result"
    }
   ],
   "source": [
    "message = oaep_encode(\"hello\".encode(\"utf-8\"))\n",
    "message"
   ]
  },
  {
   "cell_type": "code",
   "execution_count": 23,
   "id": "8e7ca135",
   "metadata": {},
   "outputs": [
    {
     "data": {
      "text/plain": [
       "'hello'"
      ]
     },
     "execution_count": 23,
     "metadata": {},
     "output_type": "execute_result"
    }
   ],
   "source": [
    "oaep_decode(message).decode(\"utf-8\")"
   ]
  },
  {
   "cell_type": "code",
   "execution_count": 24,
   "id": "8080b314",
   "metadata": {},
   "outputs": [],
   "source": [
    "class PublicKey:\n",
    "    def __init__(self, public_key: PublicKeyInt, rsa_bits: int = 2048):\n",
    "        self.public_key = public_key\n",
    "        self.rsa_bits = rsa_bits\n",
    "\n",
    "    def encrypt(self, message: bytes):\n",
    "        encoded = oaep_encode(message, self.rsa_bits)\n",
    "        encrypted = self.public_key.encrypt(int.from_bytes(encoded, byteorder=\"big\"))\n",
    "        return encrypted.to_bytes(self.rsa_bits // 8, byteorder=\"big\")\n",
    "\n",
    "\n",
    "class PrivateKey:\n",
    "    def __init__(self, private_key: PrivateKeyInt, rsa_bits: int = 2048):\n",
    "        self.private_key = private_key\n",
    "        self.rsa_bits = rsa_bits\n",
    "\n",
    "    def decrypt(self, encrypted: bytes):\n",
    "        decrypted = self.private_key.decrypt(int.from_bytes(encrypted, byteorder=\"big\"))\n",
    "        decrypted_bytes = decrypted.to_bytes(self.rsa_bits // 8, byteorder=\"big\")\n",
    "        return oaep_decode(decrypted_bytes, self.rsa_bits)\n",
    "\n",
    "    def derive_public_key(self):\n",
    "        return PublicKey(self.private_key.derive_public_key())\n",
    "    \n",
    "    @staticmethod\n",
    "    def generate():\n",
    "        return PrivateKey(PrivateKeyInt.generate())"
   ]
  },
  {
   "cell_type": "code",
   "execution_count": 25,
   "id": "39ccc9c8",
   "metadata": {},
   "outputs": [],
   "source": [
    "private_key = PrivateKey.generate()\n",
    "public_key = private_key.derive_public_key()"
   ]
  },
  {
   "cell_type": "code",
   "execution_count": 26,
   "id": "3433e6b8",
   "metadata": {},
   "outputs": [
    {
     "data": {
      "text/plain": [
       "b's-\\xd8\\xca\\xb0\\xea\\x18\\x17p\\x11\\xc2\"\\xa8n\\xf8\\tf\\xda\\xf4\\xcf\\xe4y\\t5\\xa9\\xac5\\x1c\\xd2\\x88w>\\xa7F\\xf1\\xdc\\x02\\x14l\\xe5\\xea\\x0f\\xd6\\x19\\xf0D\\x15\\x10\\xd5\\xc9-[\\xf4\\x10\\x1f?\\xce\\xae\\xd9\\xbck\\xa5\\x16\\xc1e\\x8a\\xf6\\x83\\x05\\xfd\\xe5%\\xb6\\xa6\\xd8^\\xc5\\xfc\\xb0\\x94\\x0b=s\\x9a\\x91\\xa2\\x98\\xc0\\x81\\xb9\\xb4`\\xc5\\xb1\\xf1\\xc7i\\x0c\\x89\\xadNR\\xe0+Y\\x05KL\\xbet\\x8c\\xab\\xb2\\xbe\\x9d\\x88\\x88\\xf0\\x8bP\\xcfp\\xb56\\xed\\x15\\xf2\\x866\\x8d\\x0eC\\xf3dT\\xe7\\xcc\\xd5\\xe0i\\xde\\x04(II\\x08\\x0for\\xcf\\xfb\\xae\\t\\xc1d\\xfdT\\xa8\\r\\xdce\\xdb1K\\xdd\\x8a)\\xed`w5\\x88\\xd0\"\\xb5\\x0b_\\x89\\xc8;\\xdd\\x1f\\x14\\x82\\xd2\\x04\\xf7{\\x0c\\xf8(\\xe1\\x92\\xc4u\\xe1\\x97\\xa6\\xc8\\xe8\\xea\\xd4\\xfc\\xaa\\xda\\xec2\\xd8\\xe8\\xd97~`\\x82\\x85\\xee]\\xb5\\xfa\\x95\\xcfr\\r\\xb9\\x92\\xa8\\x00\\xebI\\xb50\"\\xfe\\r\\xef\\xf6\\xea\\xa9\\x01\\xc1\\xe3\\x0c\\xc6\\x17t\\x1f\\xd6\\x7f+LF*\\xdbcx\\xb5'"
      ]
     },
     "execution_count": 26,
     "metadata": {},
     "output_type": "execute_result"
    }
   ],
   "source": [
    "message = \"Attack at Dawn\"\n",
    "encrypted = public_key.encrypt(message.encode(\"utf-8\"))\n",
    "encrypted"
   ]
  },
  {
   "cell_type": "code",
   "execution_count": 27,
   "id": "1c266d98",
   "metadata": {},
   "outputs": [
    {
     "data": {
      "text/plain": [
       "'Attack at Dawn'"
      ]
     },
     "execution_count": 27,
     "metadata": {},
     "output_type": "execute_result"
    }
   ],
   "source": [
    "decrypted = private_key.decrypt(encrypted)\n",
    "decrypted.decode(\"utf-8\")"
   ]
  }
 ],
 "metadata": {
  "kernelspec": {
   "display_name": ".venv",
   "language": "python",
   "name": "python3"
  },
  "language_info": {
   "codemirror_mode": {
    "name": "ipython",
    "version": 3
   },
   "file_extension": ".py",
   "mimetype": "text/x-python",
   "name": "python",
   "nbconvert_exporter": "python",
   "pygments_lexer": "ipython3",
   "version": "3.13.3"
  }
 },
 "nbformat": 4,
 "nbformat_minor": 5
}
